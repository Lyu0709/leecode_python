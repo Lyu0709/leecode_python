{
 "cells": [
  {
   "cell_type": "markdown",
   "metadata": {},
   "source": [
    "## [18. 4Sum](https://leetcode.com/problems/4sum/description/)\n",
    "Given an array S of n integers, are there elements a, b, c, and d in S such that a + b + c + d = target? Find all unique quadruplets in the array which gives the sum of target.\n",
    "\n",
    "Note: The solution set must not contain duplicate quadruplets.\n",
    "\n",
    "For example, given array S = [1, 0, -1, 0, -2, 2], and target = 0.\n",
    "\n",
    "A solution set is:  \n",
    "[  \n",
    "&nbsp;&nbsp;  [-1,  0, 0, 1],  \n",
    "&nbsp;&nbsp; [-2, -1, 1, 2],  \n",
    "&nbsp;&nbsp;  [-2,  0, 0, 2]  \n",
    "]  \n"
   ]
  },
  {
   "cell_type": "code",
   "execution_count": 16,
   "metadata": {
    "collapsed": false
   },
   "outputs": [
    {
     "name": "stdout",
     "output_type": "stream",
     "text": [
      "[[-2, -1, 1, 2], [-2, 0, 0, 2], [-1, 0, 0, 1]]\n",
      "[[-3, -2, 2, 3], [-3, -1, 1, 3], [-3, 0, 0, 3], [-3, 0, 1, 2], [-2, -1, 0, 3], [-2, -1, 1, 2], [-2, 0, 0, 2], [-1, 0, 0, 1]]\n"
     ]
    }
   ],
   "source": [
    "def fourSum(self, nums, target):\n",
    "    \"\"\"\n",
    "    :type nums: List[int]\n",
    "    :type target: int\n",
    "    :rtype: List[List[int]]\n",
    "    \"\"\"\n",
    "    res = []\n",
    "    nums.sort()\n",
    "    \n",
    "    for i in range(len(nums)-3):\n",
    "        for j in range(i+1, len(nums)-2, 1):\n",
    "                \n",
    "            k, l = j+1, len(nums)-1\n",
    "            while k < l:\n",
    "                sum = nums[i] + nums[j] + nums[k] + nums[l]\n",
    "                if sum == target:\n",
    "                    if [nums[i], nums[j], nums[k], nums[l]] not in res:\n",
    "                        res.append([nums[i], nums[j], nums[k], nums[l]])\n",
    "                    while k < l and nums[k] == nums[k + 1]:\n",
    "                        k += 1\n",
    "                    while k < l and nums[l] == nums[l - 1]:\n",
    "                        l -= 1\n",
    "                   \n",
    "                    k += 1\n",
    "                    l -= 1\n",
    "                elif sum < target:\n",
    "                    k += 1\n",
    "                else:\n",
    "                    l -= 1\n",
    "    \n",
    "    return res\n",
    "\n",
    "print(fourSum(0, [1, 0, -1, 0, -2, 2], 0))\n",
    "print(fourSum(0, [-3,-2,-1,0,0,1,2,3], 0))"
   ]
  },
  {
   "cell_type": "markdown",
   "metadata": {},
   "source": [
    "### 注：\n",
    "结果对了，但是成绩太差了……28.48%  "
   ]
  }
 ],
 "metadata": {
  "kernelspec": {
   "display_name": "Python 3",
   "language": "python",
   "name": "python3"
  },
  "language_info": {
   "codemirror_mode": {
    "name": "ipython",
    "version": 3
   },
   "file_extension": ".py",
   "mimetype": "text/x-python",
   "name": "python",
   "nbconvert_exporter": "python",
   "pygments_lexer": "ipython3",
   "version": "3.6.0"
  }
 },
 "nbformat": 4,
 "nbformat_minor": 2
}
