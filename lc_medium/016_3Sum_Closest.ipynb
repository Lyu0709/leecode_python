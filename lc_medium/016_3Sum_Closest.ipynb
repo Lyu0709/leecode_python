{
 "cells": [
  {
   "cell_type": "markdown",
   "metadata": {},
   "source": [
    "## [16. 3Sum Closest](https://leetcode.com/problems/3sum-closest/description/)\n",
    "Given an array S of n integers, find three integers in S such that the sum is closest to a given number, target. Return the sum of the three integers. You may assume that each input would have exactly one solution.\n",
    "\n",
    "For example, given array S = {-1 2 1 -4}, and target = 1.\n",
    "The sum that is closest to the target is 2. (-1 + 2 + 1 = 2).\n"
   ]
  },
  {
   "cell_type": "code",
   "execution_count": 7,
   "metadata": {
    "collapsed": false
   },
   "outputs": [
    {
     "data": {
      "text/plain": [
       "2"
      ]
     },
     "execution_count": 7,
     "metadata": {},
     "output_type": "execute_result"
    }
   ],
   "source": [
    " def threeSumClosest(self, nums, target):\n",
    "    \"\"\"\n",
    "    :type nums: List[int]\n",
    "    :type target: int\n",
    "    :rtype: int\n",
    "    \"\"\"\n",
    "    nums.sort()\n",
    "    result = nums[0] + nums[1] + nums[2]\n",
    "    \n",
    "    for i in range(len(nums)-2):\n",
    "        j, k = i+1, len(nums)-1\n",
    "        while j < k:\n",
    "            sum = nums[i] + nums[j] + nums[k]\n",
    "            \n",
    "            if sum == target:\n",
    "                return target\n",
    "            \n",
    "            if abs(sum - target) < abs(result - target):\n",
    "                result = sum\n",
    "            \n",
    "            if sum < target:\n",
    "                j += 1\n",
    "            else:\n",
    "                k -= 1\n",
    "                \n",
    "    return result\n",
    "\n",
    "\n",
    "threeSumClosest(0, [-1,2,1,-4], 1)              "
   ]
  }
 ],
 "metadata": {
  "kernelspec": {
   "display_name": "Python 3",
   "language": "python",
   "name": "python3"
  },
  "language_info": {
   "codemirror_mode": {
    "name": "ipython",
    "version": 3
   },
   "file_extension": ".py",
   "mimetype": "text/x-python",
   "name": "python",
   "nbconvert_exporter": "python",
   "pygments_lexer": "ipython3",
   "version": "3.6.0"
  }
 },
 "nbformat": 4,
 "nbformat_minor": 2
}
