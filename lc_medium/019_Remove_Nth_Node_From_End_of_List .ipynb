{
 "cells": [
  {
   "cell_type": "markdown",
   "metadata": {},
   "source": [
    "## [19. Remove Nth Node From End of List ](https://leetcode.com/problems/remove-nth-node-from-end-of-list/description/)\n",
    "Given a linked list, remove the nth node from the end of list and return its head.\n",
    "\n",
    "For example,  \n",
    "\n",
    "Given linked list: 1->2->3->4->5, and n = 2.  \n",
    "\n",
    "After removing the second node from the end, the linked list becomes 1->2->3->5.  \n",
    "\n",
    "Note:\n",
    "- Given n will always be valid.\n",
    "- Try to do this in one pass. "
   ]
  },
  {
   "cell_type": "code",
   "execution_count": null,
   "metadata": {
    "collapsed": true
   },
   "outputs": [],
   "source": [
    "# Definition for singly-linked list.\n",
    "# class ListNode(object):\n",
    "#     def __init__(self, x):\n",
    "#         self.val = x\n",
    "#         self.next = None\n",
    "\n",
    "class Solution(object):\n",
    "    def removeNthFromEnd(self, head, n):\n",
    "        \"\"\"\n",
    "        :type head: ListNode\n",
    "        :type n: int\n",
    "        :rtype: ListNode\n",
    "        \"\"\"\n",
    "        slow = fast = head\n",
    "        flag = True\n",
    "        for i in range(n):\n",
    "            if fast:\n",
    "                fast = fast.next\n",
    "            else:\n",
    "                flag = False\n",
    "                break\n",
    "        \n",
    "        if not flag:\n",
    "            return head\n",
    "        \n",
    "        if not fast: # 这个分支是为了 [1], n=1 这种情况\n",
    "            return head.next\n",
    "        \n",
    "        while fast.next is not None:\n",
    "            fast = fast.next\n",
    "            slow = slow.next\n",
    "        slow.next = slow.next.next\n",
    "        \n",
    "        return head"
   ]
  }
 ],
 "metadata": {
  "kernelspec": {
   "display_name": "Python 3",
   "language": "python",
   "name": "python3"
  },
  "language_info": {
   "codemirror_mode": {
    "name": "ipython",
    "version": 3
   },
   "file_extension": ".py",
   "mimetype": "text/x-python",
   "name": "python",
   "nbconvert_exporter": "python",
   "pygments_lexer": "ipython3",
   "version": "3.6.0"
  }
 },
 "nbformat": 4,
 "nbformat_minor": 2
}
