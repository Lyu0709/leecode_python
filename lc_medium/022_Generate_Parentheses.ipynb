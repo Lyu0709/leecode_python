{
 "cells": [
  {
   "cell_type": "markdown",
   "metadata": {},
   "source": [
    "## [22. Generate Parentheses](https://leetcode.com/problems/generate-parentheses/description/)\n",
    " Given n pairs of parentheses, write a function to generate all combinations of well-formed parentheses.\n",
    "\n",
    "For example, given n = 3, a solution set is: \n",
    "\n",
    "[   \n",
    "&nbsp;&nbsp;  \"((()))\",  \n",
    "&nbsp;&nbsp;  \"(()())\",  \n",
    "&nbsp;&nbsp;  \"(())()\",  \n",
    "&nbsp;&nbsp;  \"()(())\",  \n",
    "&nbsp;&nbsp;  \"()()()\"  \n",
    "]\n"
   ]
  },
  {
   "cell_type": "code",
   "execution_count": 1,
   "metadata": {
    "collapsed": false
   },
   "outputs": [
    {
     "name": "stdout",
     "output_type": "stream",
     "text": [
      "['((()))', '(()())', '(())()', '()(())', '()()()']\n"
     ]
    }
   ],
   "source": [
    "class Solution(object):\n",
    "    def generateParenthesis(self, n):\n",
    "        \"\"\"\n",
    "        :type n: int\n",
    "        :rtype: List[str]\n",
    "        \"\"\"\n",
    "        \n",
    "        def dfs(list, str, left, right, n):\n",
    "            if left + right == 2 * n:\n",
    "                list.append(str)\n",
    "                return \n",
    "            \n",
    "            if left < n:\n",
    "                dfs(list, str+\"(\", left+1, right, n)\n",
    "                \n",
    "            if right < left:\n",
    "                dfs(list, str+\")\", left, right+1, n)\n",
    "                \n",
    "        list = []\n",
    "        dfs(list, \"\", 0, 0, n)\n",
    "        return list\n",
    "    \n",
    "    \n",
    "    print(generateParenthesis(0, 3))"
   ]
  },
  {
   "cell_type": "markdown",
   "metadata": {},
   "source": [
    "### 借鉴下题友的做法："
   ]
  },
  {
   "cell_type": "code",
   "execution_count": 4,
   "metadata": {
    "collapsed": false
   },
   "outputs": [
    {
     "name": "stdout",
     "output_type": "stream",
     "text": [
      "['((()))', '(()())', '(())()', '()(())', '()()()']\n"
     ]
    }
   ],
   "source": [
    "def generateParenthesis(self, n):\n",
    "    def generate(p, left, right, parens=[]):\n",
    "        if left:         generate(p + '(', left-1, right)\n",
    "        if right > left: generate(p + ')', left, right-1)\n",
    "        if not right:    parens.append(p),\n",
    "        return parens\n",
    "    return generate('', n, n)\n",
    "\n",
    "print(generateParenthesis(0, 3))"
   ]
  },
  {
   "cell_type": "code",
   "execution_count": null,
   "metadata": {
    "collapsed": true
   },
   "outputs": [],
   "source": []
  }
 ],
 "metadata": {
  "kernelspec": {
   "display_name": "Python 3",
   "language": "python",
   "name": "python3"
  },
  "language_info": {
   "codemirror_mode": {
    "name": "ipython",
    "version": 3
   },
   "file_extension": ".py",
   "mimetype": "text/x-python",
   "name": "python",
   "nbconvert_exporter": "python",
   "pygments_lexer": "ipython3",
   "version": "3.6.0"
  }
 },
 "nbformat": 4,
 "nbformat_minor": 2
}
