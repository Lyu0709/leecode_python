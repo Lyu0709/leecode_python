{
 "cells": [
  {
   "cell_type": "markdown",
   "metadata": {},
   "source": [
    "## [48. Rotate Image](https://leetcode.com/problems/rotate-image/description/)\n",
    "You are given an n x n 2D matrix representing an image.\n",
    "\n",
    "Rotate the image by 90 degrees (clockwise).\n",
    "\n",
    "Follow up:  \n",
    "Could you do this in-place?"
   ]
  },
  {
   "cell_type": "code",
   "execution_count": 4,
   "metadata": {
    "collapsed": false
   },
   "outputs": [
    {
     "name": "stdout",
     "output_type": "stream",
     "text": [
      "[[1, 2], [3, 4]]\n",
      "[[3, 1], [4, 2]]\n"
     ]
    }
   ],
   "source": [
    "# clockwise rotate\n",
    "# first reverse up to down, then swap the symmetry \n",
    "# 1 2 3     7 8 9     7 4 1\n",
    "# 4 5 6  => 4 5 6  => 8 5 2\n",
    "# 7 8 9     1 2 3     9 6 3\n",
    " \n",
    "# anticlockwise rotate\n",
    "# first reverse left to right, then swap the symmetry\n",
    "# 1 2 3     3 2 1     3 6 9\n",
    "# 4 5 6  => 6 5 4  => 2 5 8\n",
    "# 7 8 9     9 8 7     1 4 7\n",
    "\n",
    "class Solution(object):\n",
    "    def rotate(self, matrix):\n",
    "        \"\"\"\n",
    "        :type matrix: List[List[int]]\n",
    "        :rtype: void Do not return anything, modify matrix in-place instead.\n",
    "        \"\"\"\n",
    "        for i in range(len(matrix) // 2):\n",
    "            for j in range(len(matrix[0])):\n",
    "                temp = matrix[i][j]\n",
    "                matrix[i][j] = matrix[len(matrix)-i-1][j]\n",
    "                matrix[len(matrix)-i-1][j] = temp\n",
    "                \n",
    "        for i in range(len(matrix)):\n",
    "            for j in range(0, i+1, 1):\n",
    "                temp = matrix[i][j]\n",
    "                matrix[i][j] = matrix[j][i]\n",
    "                matrix[j][i] = temp\n",
    "                \n",
    "                \n",
    "    matrix = [[1,2],[3,4]]\n",
    "    print(matrix)\n",
    "    rotate(0, matrix)\n",
    "    print(matrix)"
   ]
  }
 ],
 "metadata": {
  "kernelspec": {
   "display_name": "Python 3",
   "language": "python",
   "name": "python3"
  },
  "language_info": {
   "codemirror_mode": {
    "name": "ipython",
    "version": 3
   },
   "file_extension": ".py",
   "mimetype": "text/x-python",
   "name": "python",
   "nbconvert_exporter": "python",
   "pygments_lexer": "ipython3",
   "version": "3.6.0"
  }
 },
 "nbformat": 4,
 "nbformat_minor": 2
}
