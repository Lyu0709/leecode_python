{
 "cells": [
  {
   "cell_type": "markdown",
   "metadata": {},
   "source": [
    "## [29. Divide Two Integers](https://leetcode.com/problems/divide-two-integers/description/)\n",
    " Divide two integers without using multiplication, division and mod operator.\n",
    "\n",
    "If it is overflow, return MAX_INT. "
   ]
  },
  {
   "cell_type": "code",
   "execution_count": 5,
   "metadata": {
    "collapsed": false
   },
   "outputs": [
    {
     "name": "stdout",
     "output_type": "stream",
     "text": [
      "3\n",
      "-33\n"
     ]
    }
   ],
   "source": [
    "class Solution(object):\n",
    "    def divide(self, dividend, divisor):\n",
    "        \"\"\"\n",
    "        :type dividend: int\n",
    "        :type divisor: int\n",
    "        :rtype: int\n",
    "        \"\"\"\n",
    "        isPositive = (dividend > 0) is (divisor > 0)\n",
    "        dividend, divisor = abs(dividend), abs(divisor)\n",
    "        res = 0\n",
    "        while dividend >= divisor:\n",
    "            temp, i = divisor, 1\n",
    "            while dividend >= temp:\n",
    "                dividend -= temp\n",
    "                res += i\n",
    "                i << 1\n",
    "                temp << 1\n",
    "                \n",
    "        if not isPositive:\n",
    "            res = -res\n",
    "            \n",
    "        return min(max(-2147483648, res), 2147483647)\n",
    "    \n",
    "    print(divide(0, 6, 2))\n",
    "    print(divide(0, -67, 2))            \n",
    "    \n",
    "dividend = -2147483648, divisor = -1 时运行超时。需要更高效的方法。"
   ]
  }
 ],
 "metadata": {
  "kernelspec": {
   "display_name": "Python 3",
   "language": "python",
   "name": "python3"
  },
  "language_info": {
   "codemirror_mode": {
    "name": "ipython",
    "version": 3
   },
   "file_extension": ".py",
   "mimetype": "text/x-python",
   "name": "python",
   "nbconvert_exporter": "python",
   "pygments_lexer": "ipython3",
   "version": "3.6.0"
  }
 },
 "nbformat": 4,
 "nbformat_minor": 2
}
