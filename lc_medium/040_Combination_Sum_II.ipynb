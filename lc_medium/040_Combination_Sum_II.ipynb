{
 "cells": [
  {
   "cell_type": "markdown",
   "metadata": {},
   "source": [
    "## [ 40. Combination Sum II](https://leetcode.com/problems/combination-sum-ii/description/)\n",
    " Given a collection of candidate numbers (C) and a target number (T), find all unique combinations in C where the candidate numbers sums to T.\n",
    "\n",
    "Each number in C may only be used once in the combination.\n",
    "\n",
    "Note:\n",
    "\n",
    "- All numbers (including target) will be positive integers.\n",
    "- The solution set must not contain duplicate combinations.\n",
    "\n",
    "For example, given candidate set [10, 1, 2, 7, 6, 1, 5] and target 8,  \n",
    "A solution set is:  \n",
    "\n",
    "[  \n",
    "&nbsp;&nbsp;  [1, 7],  \n",
    "&nbsp;&nbsp;  [1, 2, 5],  \n",
    "&nbsp;&nbsp;  [2, 6],  \n",
    "&nbsp;&nbsp;  [1, 1, 6]  \n",
    "]\n"
   ]
  },
  {
   "cell_type": "code",
   "execution_count": 5,
   "metadata": {
    "collapsed": false
   },
   "outputs": [
    {
     "name": "stdout",
     "output_type": "stream",
     "text": [
      "[[1, 1, 6], [1, 2, 5], [1, 7], [2, 6]]\n"
     ]
    }
   ],
   "source": [
    "class Solution(object):\n",
    "    def combinationSum2(self, candidates, target):\n",
    "        \"\"\"\n",
    "        :type candidates: List[int]\n",
    "        :type target: int\n",
    "        :rtype: List[List[int]]\n",
    "        \"\"\"\n",
    "        res = []\n",
    "        candidates.sort()\n",
    "        def dfs(candidates, target, index, path, res):\n",
    "            if target < 0:\n",
    "                return\n",
    "            if target == 0:\n",
    "                res.append(path)\n",
    "                return res\n",
    "            for i in range(index, len(candidates)):\n",
    "                if i > index and candidates[i] == candidates[i-1]:\n",
    "                    continue\n",
    "                dfs(candidates, target-candidates[i], i+1, path+[candidates[i]], res)\n",
    "                \n",
    "        dfs(candidates, target, 0, [], res)\n",
    "        return res\n",
    "    \n",
    "    print(combinationSum2(0, [10, 1, 2, 7, 6, 1, 5], 8))"
   ]
  },
  {
   "cell_type": "markdown",
   "metadata": {},
   "source": [
    "用动态规划还是简单的，下面的方法是一个题友做的，没看懂……先留着吧。"
   ]
  },
  {
   "cell_type": "code",
   "execution_count": 1,
   "metadata": {
    "collapsed": false
   },
   "outputs": [
    {
     "name": "stdout",
     "output_type": "stream",
     "text": [
      "[[2, 6], [1, 1, 6], [1, 2, 5], [1, 7]]\n"
     ]
    }
   ],
   "source": [
    "class Solution(object):\n",
    "    def combinationSum2(self, candidates, target):\n",
    "        \"\"\"\n",
    "        :type candidates: List[int]\n",
    "        :type target: int\n",
    "        :rtype: List[List[int]]\n",
    "        \"\"\"\n",
    "        candidates.sort()\n",
    "        table = [None] + [set() for i in range(target)]\n",
    "        for i in candidates:\n",
    "            if i > target:\n",
    "                break\n",
    "            for j in range(target - i, 0, -1):\n",
    "                table[i + j] |= {elt + (i,) for elt in table[j]}\n",
    "            table[i].add((i,))\n",
    "        return list(map(list, table[target]))\n",
    "    \n",
    "    print(combinationSum2(0, [10, 1, 2, 7, 6, 1, 5], 8))"
   ]
  }
 ],
 "metadata": {
  "kernelspec": {
   "display_name": "Python 3",
   "language": "python",
   "name": "python3"
  },
  "language_info": {
   "codemirror_mode": {
    "name": "ipython",
    "version": 3
   },
   "file_extension": ".py",
   "mimetype": "text/x-python",
   "name": "python",
   "nbconvert_exporter": "python",
   "pygments_lexer": "ipython3",
   "version": "3.6.0"
  }
 },
 "nbformat": 4,
 "nbformat_minor": 2
}
