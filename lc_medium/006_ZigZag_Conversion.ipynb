{
 "cells": [
  {
   "cell_type": "markdown",
   "metadata": {},
   "source": [
    "## [6. ZigZag Conversion](https://leetcode.com/problems/zigzag-conversion/#/description)\n",
    " The string \"PAYPALISHIRING\" is written in a zigzag pattern on a given number of rows like this: (you may want to display this pattern in a fixed font for better legibility)\n",
    "\n",
    "P&nbsp;&nbsp;&nbsp;   A&nbsp;&nbsp;   H&nbsp;&nbsp;   N  \n",
    "A P L S I I G  \n",
    "Y&nbsp;&nbsp;&nbsp;   I&nbsp;&nbsp;&nbsp;   R \n",
    "\n",
    "And then read line by line: \"PAHNAPLSIIGYIR\"\n",
    "\n",
    "Write the code that will take a string and make this conversion given a number of rows:\n",
    "\n",
    "string convert(string text, int nRows);\n",
    "\n",
    "convert(\"PAYPALISHIRING\", 3) should return \"PAHNAPLSIIGYIR\". "
   ]
  },
  {
   "cell_type": "code",
   "execution_count": 1,
   "metadata": {
    "collapsed": false
   },
   "outputs": [
    {
     "name": "stdout",
     "output_type": "stream",
     "text": [
      "PAHNAPLSIIGYIR\n"
     ]
    }
   ],
   "source": [
    "def convert(self, s, numRows):\n",
    "    \"\"\"\n",
    "    :type s: str\n",
    "    :type numRows: int\n",
    "    :rtype: str\n",
    "    \"\"\"\n",
    "    if numRows <= 0:\n",
    "        return\n",
    "    \n",
    "    if numRows == 1 or len(s) <= numRows:\n",
    "        return s\n",
    "    \n",
    "    res = [''] * numRows\n",
    "    index, step = 0, 1\n",
    "        \n",
    "    for m in s:\n",
    "        res[index] += m\n",
    "        if index == 0:\n",
    "            step = 1\n",
    "        elif index == numRows - 1:\n",
    "            step = -1\n",
    "        index += step         \n",
    "        \n",
    "    return ''.join(res)\n",
    "\n",
    "print(convert(0, \"PAYPALISHIRING\", 3))"
   ]
  }
 ],
 "metadata": {
  "kernelspec": {
   "display_name": "Python 3",
   "language": "python",
   "name": "python3"
  },
  "language_info": {
   "codemirror_mode": {
    "name": "ipython",
    "version": 3
   },
   "file_extension": ".py",
   "mimetype": "text/x-python",
   "name": "python",
   "nbconvert_exporter": "python",
   "pygments_lexer": "ipython3",
   "version": "3.6.0"
  }
 },
 "nbformat": 4,
 "nbformat_minor": 2
}
