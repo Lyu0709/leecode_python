{
 "cells": [
  {
   "cell_type": "markdown",
   "metadata": {},
   "source": [
    "## [59. Spiral Matrix II](https://leetcode.com/problems/spiral-matrix-ii/description/)\n",
    "Given an integer n, generate a square matrix filled with elements from 1 to n2 in spiral order.\n",
    "\n",
    "For example,  \n",
    "Given n = 3,  \n",
    "You should return the following matrix:  \n",
    "\n",
    "[  \n",
    "&nbsp;&nbsp; [ 1, 2, 3 ],  \n",
    "&nbsp;&nbsp; [ 8, 9, 4 ],  \n",
    "&nbsp;&nbsp; [ 7, 6, 5 ]  \n",
    "]\n"
   ]
  },
  {
   "cell_type": "code",
   "execution_count": 6,
   "metadata": {
    "collapsed": false,
    "scrolled": true
   },
   "outputs": [
    {
     "name": "stdout",
     "output_type": "stream",
     "text": [
      "[[1, 2, 3], [8, 9, 4], [7, 6, 5]]\n",
      "[[1, 2, 3, 4], [12, 13, 14, 5], [11, 16, 15, 6], [10, 9, 8, 7]]\n"
     ]
    }
   ],
   "source": [
    "# Solution 1:这题完全可以用Spiral Matrix I 同样的方法来解，代码如下：\n",
    "class Solution(object):\n",
    "    def generateMatrix(self, n):\n",
    "        \"\"\"\n",
    "        :type n: int\n",
    "        :rtype: List[List[int]]\n",
    "        \"\"\"\n",
    "        if n == 0:\n",
    "            return []\n",
    "        \n",
    "        matrix = [[0] * n for _ in range(n)]\n",
    "        \n",
    "        rowBegin = colBegin = 0\n",
    "        rowEnd = colEnd = n-1\n",
    "        num = 1\n",
    "        \n",
    "        while rowBegin <= rowEnd and colBegin <= colEnd:\n",
    "            # go right\n",
    "            for i in range(colBegin, colEnd+1):\n",
    "                matrix[rowBegin][i] = num\n",
    "                num += 1\n",
    "            rowBegin += 1\n",
    "            \n",
    "            # go down\n",
    "            for i in range(rowBegin, rowEnd+1):\n",
    "                matrix[i][colEnd] = num\n",
    "                num += 1\n",
    "            colEnd -= 1\n",
    "            \n",
    "            # go left\n",
    "            for i in range(colEnd, colBegin-1, -1):\n",
    "                matrix[rowEnd][i] = num\n",
    "                num += 1\n",
    "            rowEnd -= 1\n",
    "            \n",
    "            # go up\n",
    "            for i in range(rowEnd, rowBegin -1, -1):\n",
    "                matrix[i][colBegin] = num\n",
    "                num += 1\n",
    "            colBegin += 1\n",
    "                \n",
    "        return matrix\n",
    "        \n",
    "    print(generateMatrix(0, 3))\n",
    "    print(generateMatrix(0, 4))"
   ]
  }
 ],
 "metadata": {
  "kernelspec": {
   "display_name": "Python 3",
   "language": "python",
   "name": "python3"
  },
  "language_info": {
   "codemirror_mode": {
    "name": "ipython",
    "version": 3
   },
   "file_extension": ".py",
   "mimetype": "text/x-python",
   "name": "python",
   "nbconvert_exporter": "python",
   "pygments_lexer": "ipython3",
   "version": "3.6.0"
  }
 },
 "nbformat": 4,
 "nbformat_minor": 2
}
