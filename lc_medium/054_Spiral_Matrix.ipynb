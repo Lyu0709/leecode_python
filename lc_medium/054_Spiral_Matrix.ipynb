{
 "cells": [
  {
   "cell_type": "markdown",
   "metadata": {},
   "source": [
    "## [54. Spiral Matrix](https://leetcode.com/problems/spiral-matrix/description/)\n",
    "Given a matrix of m x n elements (m rows, n columns), return all elements of the matrix in spiral order.\n",
    "\n",
    "For example,  \n",
    "Given the following matrix:  \n",
    "\n",
    "[  \n",
    "&nbsp;&nbsp; [ 1, 2, 3 ],  \n",
    "&nbsp;&nbsp; [ 4, 5, 6 ],  \n",
    "&nbsp;&nbsp; [ 7, 8, 9 ]  \n",
    "]\n",
    "\n",
    "You should return [1,2,3,6,9,8,7,4,5]. "
   ]
  },
  {
   "cell_type": "code",
   "execution_count": 17,
   "metadata": {
    "collapsed": false
   },
   "outputs": [
    {
     "name": "stdout",
     "output_type": "stream",
     "text": [
      "[1, 2, 3, 6, 9, 8, 7, 4, 5]\n",
      "[3]\n"
     ]
    }
   ],
   "source": [
    "class Solution(object):\n",
    "    def spiralOrder(self, matrix):\n",
    "        \"\"\"\n",
    "        :type matrix: List[List[int]]\n",
    "        :rtype: List[int]\n",
    "        \"\"\"\n",
    "        if len(matrix) == 0:\n",
    "            return []\n",
    "        \n",
    "        rowBegin = colBegin =  0\n",
    "        rowEnd = colEnd = len(matrix[0])-1\n",
    "        res = []\n",
    "        while rowBegin <= rowEnd and colBegin <= colEnd:\n",
    "            # go right\n",
    "            for i in range(colBegin, colEnd+1):\n",
    "                res.append(matrix[rowBegin][i])\n",
    "            rowBegin += 1\n",
    "            \n",
    "            # go down\n",
    "            for i in range(rowBegin, rowEnd+1):\n",
    "                res.append(matrix[i][colEnd])\n",
    "            colEnd -= 1\n",
    "            \n",
    "            # go left\n",
    "            if rowBegin > rowEnd or colBegin > colEnd:\n",
    "                break\n",
    "            for i in range(colEnd, colBegin-1, -1):\n",
    "                res.append(matrix[rowEnd][i])\n",
    "            rowEnd -= 1\n",
    "            \n",
    "            # go up\n",
    "            if rowBegin > rowEnd or colBegin > colEnd:\n",
    "                break\n",
    "            for i in range(rowEnd, rowBegin-1, -1):\n",
    "                res.append(matrix[i][colBegin])\n",
    "            colBegin += 1\n",
    "        \n",
    "        return res\n",
    "        \n",
    "    print(spiralOrder(0, [[1,2,3],[4,5,6], [7,8,9]]))\n",
    "    print(spiralOrder(0, [[3],[2]]))"
   ]
  },
  {
   "cell_type": "markdown",
   "metadata": {
    "collapsed": true
   },
   "source": [
    "下面是题友一行解题的代码："
   ]
  },
  {
   "cell_type": "code",
   "execution_count": 19,
   "metadata": {
    "collapsed": false
   },
   "outputs": [],
   "source": [
    "class Solution(object):\n",
    "    def spiralOrder(self, matrix):\n",
    "        \"\"\"\n",
    "        :type matrix: List[List[int]]\n",
    "        :rtype: List[int]\n",
    "        \"\"\"\n",
    "        return matrix and list(matrix.pop(0)) + self.spiralOrder(zip(*matrix)[::-1])"
   ]
  }
 ],
 "metadata": {
  "kernelspec": {
   "display_name": "Python 3",
   "language": "python",
   "name": "python3"
  },
  "language_info": {
   "codemirror_mode": {
    "name": "ipython",
    "version": 3
   },
   "file_extension": ".py",
   "mimetype": "text/x-python",
   "name": "python",
   "nbconvert_exporter": "python",
   "pygments_lexer": "ipython3",
   "version": "3.6.0"
  }
 },
 "nbformat": 4,
 "nbformat_minor": 2
}
