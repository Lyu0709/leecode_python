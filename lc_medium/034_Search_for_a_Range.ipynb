{
 "cells": [
  {
   "cell_type": "markdown",
   "metadata": {},
   "source": [
    "## [34. Search for a Range](https://leetcode.com/problems/search-for-a-range/description/)\n",
    "Given an array of integers sorted in ascending order, find the starting and ending position of a given target value.\n",
    "\n",
    "Your algorithm's runtime complexity must be in the order of O(log n).\n",
    "\n",
    "If the target is not found in the array, return [-1, -1].\n",
    "\n",
    "For example,  \n",
    "Given [5, 7, 7, 8, 8, 10] and target value 8,  \n",
    "return [3, 4]. "
   ]
  },
  {
   "cell_type": "code",
   "execution_count": 4,
   "metadata": {
    "collapsed": false
   },
   "outputs": [
    {
     "name": "stdout",
     "output_type": "stream",
     "text": [
      "[3, 4]\n"
     ]
    }
   ],
   "source": [
    "class Solution(object):\n",
    "    def searchRange(self, nums, target):\n",
    "        \"\"\"\n",
    "        :type nums: List[int]\n",
    "        :type target: int\n",
    "        :rtype: List[int]\n",
    "        \"\"\"\n",
    "        res = [-1, -1]\n",
    "        \n",
    "        if len(nums) == 0:\n",
    "            return res\n",
    "        \n",
    "        lo, hi = 0, len(nums)-1\n",
    "        while lo < hi:\n",
    "            mid = (lo + hi ) // 2\n",
    "            if nums[mid] < target:\n",
    "                lo = mid + 1\n",
    "            else:\n",
    "                hi = mid\n",
    "                \n",
    "        if target != nums[lo]:\n",
    "            return res\n",
    "        else:\n",
    "            res[0] = lo\n",
    "         \n",
    "        lo, hi = 0, len(nums)-1\n",
    "        while lo < hi:\n",
    "            mid = (lo + hi) // 2 + 1  #让中值偏向于右值\n",
    "            if nums[mid] > target:\n",
    "                hi = mid - 1\n",
    "            else:\n",
    "                lo = mid\n",
    "        res[1] = hi\n",
    "        \n",
    "        return res\n",
    "    \n",
    "    print(searchRange(0, [5, 7, 7, 8, 8, 10], 8))\n",
    "                "
   ]
  }
 ],
 "metadata": {
  "kernelspec": {
   "display_name": "Python 3",
   "language": "python",
   "name": "python3"
  },
  "language_info": {
   "codemirror_mode": {
    "name": "ipython",
    "version": 3
   },
   "file_extension": ".py",
   "mimetype": "text/x-python",
   "name": "python",
   "nbconvert_exporter": "python",
   "pygments_lexer": "ipython3",
   "version": "3.6.0"
  }
 },
 "nbformat": 4,
 "nbformat_minor": 2
}
