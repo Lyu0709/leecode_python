{
 "cells": [
  {
   "cell_type": "markdown",
   "metadata": {},
   "source": [
    "## [33. Search in Rotated Sorted Array ](https://leetcode.com/problems/search-in-rotated-sorted-array/description/)\n",
    "Suppose an array sorted in ascending order is rotated at some pivot unknown to you beforehand.\n",
    "\n",
    "(i.e., 0 1 2 4 5 6 7 might become 4 5 6 7 0 1 2).\n",
    "\n",
    "You are given a target value to search. If found in the array return its index, otherwise return -1.\n",
    "\n",
    "You may assume no duplicate exists in the array.\n"
   ]
  },
  {
   "cell_type": "code",
   "execution_count": 15,
   "metadata": {
    "collapsed": false
   },
   "outputs": [
    {
     "name": "stdout",
     "output_type": "stream",
     "text": [
      "2\n",
      "15\n",
      "0\n",
      "1\n"
     ]
    }
   ],
   "source": [
    "def search(self, nums, target):\n",
    "    \"\"\"\n",
    "    :type nums: List[int]\n",
    "    :type target: int\n",
    "    :rtype: int\n",
    "    \"\"\"\n",
    "    lo, hi = 0, len(nums)-1\n",
    "    # find the index of the smallest value using binary search.\n",
    "    # Loop will terminate since mid < hi, and lo or hi will shrink by at least 1.\n",
    "    # Proof by contradiction that mid < hi: if mid==hi, then lo==hi and loop would have been terminated.\n",
    "    while lo < hi:\n",
    "        mid = (lo + hi) // 2;\n",
    "        if nums[mid] > nums[hi]:\n",
    "            lo = mid + 1\n",
    "        else:\n",
    "            hi = mid\n",
    "\n",
    "    # lo==hi is the index of the smallest value and also the number of places rotated.\n",
    "    rot = lo\n",
    "    lo, hi = 0, len(nums)-1\n",
    "    # The usual binary search and accounting for rotation.\n",
    "    while lo <= hi:\n",
    "        mid = (lo + hi) // 2\n",
    "        realmid= (mid + rot) % len(nums)\n",
    "        if nums[realmid] == target:\n",
    "            return realmid\n",
    "        if nums[realmid] < target:\n",
    "            lo = mid + 1\n",
    "        else:\n",
    "            hi = mid - 1\n",
    "\n",
    "    return -1\n",
    "\n",
    "print(search(0, [12, 13, 14, 15, 16, 17, 18, 19, 0, 1, 2, 3, 4, 5, 6, 7, 8, 9, 10, 11], 14))\n",
    "print(search(0, [12, 13, 14, 15, 16, 17, 18, 19, 0, 1, 2, 3, 4, 5, 6, 7, 8, 9, 10, 11], 7))  \n",
    "print(search(0, [1], 1))\n",
    "print(search(0, [1,3], 3))"
   ]
  }
 ],
 "metadata": {
  "kernelspec": {
   "display_name": "Python 3",
   "language": "python",
   "name": "python3"
  },
  "language_info": {
   "codemirror_mode": {
    "name": "ipython",
    "version": 3
   },
   "file_extension": ".py",
   "mimetype": "text/x-python",
   "name": "python",
   "nbconvert_exporter": "python",
   "pygments_lexer": "ipython3",
   "version": "3.6.0"
  }
 },
 "nbformat": 4,
 "nbformat_minor": 2
}
