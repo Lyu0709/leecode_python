{
 "cells": [
  {
   "cell_type": "markdown",
   "metadata": {},
   "source": [
    "## [49. Group Anagrams](https://leetcode.com/problems/group-anagrams/description/)\n",
    "Given an array of strings, group anagrams together.\n",
    "\n",
    "For example, given: [\"eat\", \"tea\", \"tan\", \"ate\", \"nat\", \"bat\"],  \n",
    "Return:\n",
    "\n",
    "[  \n",
    "&nbsp;&nbsp;  [\"ate\", \"eat\",\"tea\"],  \n",
    "&nbsp;&nbsp;  [\"nat\",\"tan\"],  \n",
    "&nbsp;&nbsp;  [\"bat\"]  \n",
    "]\n",
    "\n",
    "Note: All inputs will be in lower-case."
   ]
  },
  {
   "cell_type": "markdown",
   "metadata": {},
   "source": [
    "### 注：\n",
    "这题有个很赞的java解法，利用hashcode和map来做，代码如下："
   ]
  },
  {
   "cell_type": "code",
   "execution_count": null,
   "metadata": {
    "collapsed": true
   },
   "outputs": [],
   "source": [
    "# Java解法\n",
    "public int getID(String s){\n",
    "    int[] counter   =   new int[26];\n",
    "    for(char ch : s.toCharArray()){\n",
    "        counter[ch - 'a']++;\n",
    "    }\n",
    "\n",
    "    return Arrays.hashCode(counter);    # use the counter array's hash code as this anagram's ID\n",
    "}\n",
    "\n",
    "# solution takes 18ms\n",
    "public List<List<String>> groupAnagrams(String[] strs) {\n",
    "    List<List<String>> groups   =   new ArrayList<>();\n",
    "    Map<Integer, List<String>> anagramMap   =   new HashMap<>();\n",
    "\n",
    "    for(String word : strs){\n",
    "        int id   =   getID(word);   # unique for each anagram\n",
    "        List<String> group  =   anagramMap.get(id);\n",
    "\n",
    "        if(null == group){\n",
    "            group  =   new ArrayList();\n",
    "            anagramMap.put(id, group);\n",
    "\n",
    "        }\n",
    "\n",
    "        group.add(word);\n",
    "    }\n",
    "\n",
    "    groups.addAll(anagramMap.values());\n",
    "\n",
    "    return groups;\n",
    "}"
   ]
  },
  {
   "cell_type": "markdown",
   "metadata": {},
   "source": [
    "用Python来解这道题如下："
   ]
  },
  {
   "cell_type": "code",
   "execution_count": 3,
   "metadata": {
    "collapsed": false
   },
   "outputs": [
    {
     "name": "stdout",
     "output_type": "stream",
     "text": [
      "[['eat', 'tea', 'ate'], ['tan', 'nat'], ['bat']]\n"
     ]
    }
   ],
   "source": [
    "from collections import defaultdict\n",
    "class Solution(object):\n",
    "    def groupAnagrams(self, strs):\n",
    "        \"\"\"\n",
    "        :type strs: List[str]\n",
    "        :rtype: List[List[str]]\n",
    "        \"\"\"\n",
    "        dic = defaultdict(list)\n",
    "        for str in strs:\n",
    "            dic[''.join(sorted(str))].append(str)\n",
    "            \n",
    "        return list(dic.values())\n",
    "    \n",
    "    print(groupAnagrams(0,[\"eat\", \"tea\", \"tan\", \"ate\", \"nat\", \"bat\"]))"
   ]
  }
 ],
 "metadata": {
  "kernelspec": {
   "display_name": "Python 3",
   "language": "python",
   "name": "python3"
  },
  "language_info": {
   "codemirror_mode": {
    "name": "ipython",
    "version": 3
   },
   "file_extension": ".py",
   "mimetype": "text/x-python",
   "name": "python",
   "nbconvert_exporter": "python",
   "pygments_lexer": "ipython3",
   "version": "3.6.0"
  }
 },
 "nbformat": 4,
 "nbformat_minor": 2
}
