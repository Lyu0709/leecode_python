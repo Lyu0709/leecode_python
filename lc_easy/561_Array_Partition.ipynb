{
 "cells": [
  {
   "cell_type": "markdown",
   "metadata": {},
   "source": [
    "###  [561. Array Partition I](https://leetcode.com/problems/array-partition-i/#/description)\n",
    "Given an array of 2n integers, your task is to group these integers into n pairs of integer, say (a1, b1), (a2, b2), ..., (an, bn) which makes sum of min(ai, bi) for all i from 1 to n as large as possible. \n",
    "\n",
    "#### 解析\n",
    "要使得每对中最小值的和最大，只需要将数组中的数从小到大排列，然后按顺序两两组队，再计算出的和即为最大值。\n"
   ]
  },
  {
   "cell_type": "code",
   "execution_count": 12,
   "metadata": {
    "collapsed": false
   },
   "outputs": [
    {
     "data": {
      "text/plain": [
       "4"
      ]
     },
     "execution_count": 12,
     "metadata": {},
     "output_type": "execute_result"
    }
   ],
   "source": [
    "def arrayPairSum(self, nums):\n",
    "    if not nums:\n",
    "        return False\n",
    "    \n",
    "    sortASC(nums)\n",
    "    sum = 0\n",
    "    for i in range(0, len(nums), 2):\n",
    "        sum += nums[i]\n",
    "        \n",
    "    return sum\n",
    "    \n",
    "def sortASC(nums):\n",
    "    if not nums:\n",
    "        return False\n",
    "    \n",
    "    for i in range(len(nums)):\n",
    "        for j in range(len(nums) - i - 1) :\n",
    "            if nums[j] > nums[j+1]:\n",
    "                temp = nums[j]\n",
    "                nums[j] = nums[j+1]\n",
    "                nums[j+1] = temp\n",
    "            \n",
    "    return nums\n",
    "    \n",
    "    \n",
    "nums = [1,4,3,2]\n",
    "arrayPairSum(0, nums)\n"
   ]
  },
  {
   "cell_type": "markdown",
   "metadata": {},
   "source": [
    "#### 注：\n",
    "Leecode答题不接受另写方法，所以上面的方法虽然本地通过了，但在Leecode页面并没有通过。\n",
    "- python中的升序排序函数为sorted(array)，降序排序为sorted(array, reverse = True)\n",
    "- 步长为2的遍历求和巧技：array[::2]"
   ]
  },
  {
   "cell_type": "code",
   "execution_count": 21,
   "metadata": {
    "collapsed": false
   },
   "outputs": [
    {
     "data": {
      "text/plain": [
       "4"
      ]
     },
     "execution_count": 21,
     "metadata": {},
     "output_type": "execute_result"
    }
   ],
   "source": [
    "def arrayPairSum(self, nums):\n",
    "    if not nums:\n",
    "        return False\n",
    "    \n",
    "    nums = sorted(nums)\n",
    "    \n",
    "    result = sum(nums[::2])\n",
    "    return result\n",
    "    \n",
    "nums = [1,4,3,2]\n",
    "arrayPairSum(0, nums)"
   ]
  }
 ],
 "metadata": {
  "kernelspec": {
   "display_name": "Python 3",
   "language": "python",
   "name": "python3"
  },
  "language_info": {
   "codemirror_mode": {
    "name": "ipython",
    "version": 3
   },
   "file_extension": ".py",
   "mimetype": "text/x-python",
   "name": "python",
   "nbconvert_exporter": "python",
   "pygments_lexer": "ipython3",
   "version": "3.6.0"
  }
 },
 "nbformat": 4,
 "nbformat_minor": 2
}
