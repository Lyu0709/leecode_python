{
 "cells": [
  {
   "cell_type": "markdown",
   "metadata": {},
   "source": [
    "## [441. Arranging Coins](https://leetcode.com/problems/arranging-coins/#/description)\n",
    "You have a total of n coins that you want to form in a staircase shape, where every k-th row must have exactly k coins.\n",
    "\n",
    "Given n, find the total number of full staircase rows that can be formed.\n",
    "\n",
    "n is a non-negative integer and fits within the range of a 32-bit signed integer.\n",
    "\n",
    "Example 1:\n",
    "\n",
    "n = 5\n",
    "\n",
    "The coins can form the following rows:  \n",
    "¤  \n",
    "¤ ¤  \n",
    "¤ ¤  \n",
    "\n",
    "Because the 3rd row is incomplete, we return 2.\n",
    "\n",
    "Example 2:  \n",
    "\n",
    "n = 8  \n",
    "\n",
    "The coins can form the following rows:  \n",
    "¤  \n",
    "¤ ¤  \n",
    "¤ ¤ ¤  \n",
    "¤ ¤  \n",
    "\n",
    "Because the 4th row is incomplete, we return 3.\n"
   ]
  },
  {
   "cell_type": "code",
   "execution_count": 8,
   "metadata": {
    "collapsed": false
   },
   "outputs": [
    {
     "name": "stdout",
     "output_type": "stream",
     "text": [
      "1\n",
      "2\n",
      "3\n",
      "4\n"
     ]
    }
   ],
   "source": [
    "def arrangeCoins(self, n):\n",
    "        \"\"\"\n",
    "        :type n: int\n",
    "        :rtype: int\n",
    "        \"\"\"\n",
    "        \n",
    "        if n <= 0:\n",
    "            return 0\n",
    "        \n",
    "        if n == 1:\n",
    "            return 1\n",
    "        \n",
    "        k = 1\n",
    "        totalCoins = 1\n",
    "        while totalCoins <= n:\n",
    "            k += 1\n",
    "            totalCoins = k * (k + 1) / 2\n",
    "        \n",
    "        return k - 1\n",
    "\n",
    "print(arrangeCoins(0, 1))\n",
    "print(arrangeCoins(0, 5))\n",
    "print(arrangeCoins(0, 8))\n",
    "print(arrangeCoins(0, 10))"
   ]
  },
  {
   "cell_type": "markdown",
   "metadata": {
    "collapsed": true
   },
   "source": [
    "### 注：\n",
    "9.11%……日狗。\n"
   ]
  },
  {
   "cell_type": "code",
   "execution_count": 9,
   "metadata": {
    "collapsed": false
   },
   "outputs": [
    {
     "name": "stdout",
     "output_type": "stream",
     "text": [
      "1\n",
      "2\n",
      "3\n",
      "4\n"
     ]
    }
   ],
   "source": [
    "def arrangeCoins(self, n):\n",
    "        \"\"\"\n",
    "        :type n: int\n",
    "        :rtype: int\n",
    "        \"\"\"\n",
    "        return int( ((1 + 8*n)**0.5 - 1) / 2 )\n",
    "    \n",
    "print(arrangeCoins(0, 1))\n",
    "print(arrangeCoins(0, 5))\n",
    "print(arrangeCoins(0, 8))\n",
    "print(arrangeCoins(0, 10))"
   ]
  },
  {
   "cell_type": "markdown",
   "metadata": {},
   "source": [
    "换成数学公式直接计算就98.04%了"
   ]
  }
 ],
 "metadata": {
  "kernelspec": {
   "display_name": "Python 3",
   "language": "python",
   "name": "python3"
  },
  "language_info": {
   "codemirror_mode": {
    "name": "ipython",
    "version": 3
   },
   "file_extension": ".py",
   "mimetype": "text/x-python",
   "name": "python",
   "nbconvert_exporter": "python",
   "pygments_lexer": "ipython3",
   "version": "3.6.0"
  }
 },
 "nbformat": 4,
 "nbformat_minor": 2
}
