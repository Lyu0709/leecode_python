{
 "cells": [
  {
   "cell_type": "markdown",
   "metadata": {},
   "source": [
    "### [283. Move Zeroes](https://leetcode.com/problems/move-zeroes/#/description)\n",
    " Given an array nums, write a function to move all 0's to the end of it while maintaining the relative order of the non-zero elements.\n",
    "\n",
    "For example, given nums = [0, 1, 0, 3, 12], after calling your function, nums should be [1, 3, 12, 0, 0].\n",
    "\n",
    "Note:\n",
    "\n",
    "- You must do this in-place without making a copy of the array.\n",
    "- Minimize the total number of operations.\n"
   ]
  },
  {
   "cell_type": "code",
   "execution_count": 9,
   "metadata": {
    "collapsed": false
   },
   "outputs": [
    {
     "name": "stdout",
     "output_type": "stream",
     "text": [
      "[1, 3, 12, 0, 0]\n"
     ]
    }
   ],
   "source": [
    "def moveZeroes(self, nums):\n",
    "        \"\"\"\n",
    "        :type nums: List[int]\n",
    "        :rtype: void Do not return anything, modify nums in-place instead.\n",
    "        \"\"\"\n",
    "        sumOfZero = 0 # 当前已有的0的个数\n",
    "        for i in range(len(nums)-1, -1, -1):\n",
    "            if nums[i] == 0:\n",
    "                for j in range(i, len(nums) - sumOfZero - 1):\n",
    "                    nums[j] = nums[j + 1]\n",
    "                nums[len(nums) - sumOfZero - 1] = 0\n",
    "                sumOfZero += 1\n",
    "        \n",
    "    \n",
    "nums = [0, 1, 0, 3, 12]\n",
    "moveZeroes(0, nums)                \n",
    "print(nums)"
   ]
  },
  {
   "cell_type": "markdown",
   "metadata": {},
   "source": [
    "#### 注：\n",
    "9.54%  \n",
    "不过我也脑抽了，竟然觉得只能一步一步挪，所以选择从后往前一步一步挪……这个智商太感人了。   \n",
    "   \n",
    "换种思路（如下），提到54.2%了。"
   ]
  },
  {
   "cell_type": "code",
   "execution_count": null,
   "metadata": {
    "collapsed": true
   },
   "outputs": [],
   "source": [
    "def moveZeroes(self, nums):\n",
    "        \"\"\"\n",
    "        :type nums: List[int]\n",
    "        :rtype: void Do not return anything, modify nums in-place instead.\n",
    "        \"\"\"\n",
    "        sumOfUnZero = 0 # 当前已有的非0的个数\n",
    "        for i in range(len(nums)):\n",
    "            if nums[i] != 0:\n",
    "                nums[sumOfUnZero] = nums[i]\n",
    "                sumOfUnZero += 1\n",
    "        for i in range(sumOfUnZero, len(nums)):\n",
    "            nums[i] = 0\n",
    "        "
   ]
  },
  {
   "cell_type": "markdown",
   "metadata": {},
   "source": [
    "### 题友智慧：\n"
   ]
  },
  {
   "cell_type": "code",
   "execution_count": 17,
   "metadata": {
    "collapsed": false
   },
   "outputs": [
    {
     "name": "stdout",
     "output_type": "stream",
     "text": [
      "[1, 3, 12, 0, 0]\n"
     ]
    }
   ],
   "source": [
    "def moveZeroes(self, nums):\n",
    "    zero = 0  # records the position of \"0\"\n",
    "    for i in range(len(nums)):\n",
    "        if nums[i] != 0:\n",
    "            nums[i], nums[zero] = nums[zero], nums[i]\n",
    "            zero += 1\n",
    "            \n",
    "            \n",
    "nums = [0, 1, 0, 3, 12]\n",
    "moveZeroes(0, nums)                \n",
    "print(nums)"
   ]
  },
  {
   "cell_type": "code",
   "execution_count": 14,
   "metadata": {
    "collapsed": false
   },
   "outputs": [
    {
     "name": "stdout",
     "output_type": "stream",
     "text": [
      "i: 1 nums: \n",
      "[1, 0, 0, 3, 12]\n",
      "i: 3 nums: \n",
      "[1, 3, 0, 0, 12]\n",
      "i: 4 nums: \n",
      "[1, 3, 12, 0, 0]\n",
      "[1, 3, 12, 0, 0]\n"
     ]
    }
   ],
   "source": [
    "def moveZeroes(self, nums):\n",
    "    zero = 0  # records the position of \"0\"\n",
    "    for i in range(len(nums)):\n",
    "        if nums[i] != 0:\n",
    "            nums[i], nums[zero] = nums[zero], nums[i] \n",
    "            # ？？？这里是同时操作？？？不然把nums[i]的值赋给nums[zero]之后，nums[zero]赋给nums[i]的值不会变吗？\n",
    "            # nums[i], nums[zero] = 0, nums[i]   这样写也是可以的\n",
    "            print(\"i: \"+str(i)+\" nums: \")\n",
    "            print(nums)\n",
    "            zero += 1\n",
    "            \n",
    "            \n",
    "nums = [0, 1, 0, 3, 12]\n",
    "moveZeroes(0, nums)                \n",
    "print(nums)"
   ]
  }
 ],
 "metadata": {
  "kernelspec": {
   "display_name": "Python 3",
   "language": "python",
   "name": "python3"
  },
  "language_info": {
   "codemirror_mode": {
    "name": "ipython",
    "version": 3
   },
   "file_extension": ".py",
   "mimetype": "text/x-python",
   "name": "python",
   "nbconvert_exporter": "python",
   "pygments_lexer": "ipython3",
   "version": "3.6.0"
  }
 },
 "nbformat": 4,
 "nbformat_minor": 2
}
