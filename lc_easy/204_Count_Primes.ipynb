{
 "cells": [
  {
   "cell_type": "markdown",
   "metadata": {},
   "source": [
    "## [204. Count Primes ](https://leetcode.com/problems/count-primes/#/description)\n",
    "Description:\n",
    "\n",
    "Count the number of prime numbers less than a non-negative number, n."
   ]
  },
  {
   "cell_type": "code",
   "execution_count": null,
   "metadata": {
    "collapsed": false
   },
   "outputs": [
    {
     "name": "stdout",
     "output_type": "stream",
     "text": [
      "3\n",
      "4\n"
     ]
    }
   ],
   "source": [
    "def countPrimes(self, n):\n",
    "        \"\"\"\n",
    "        :type n: int\n",
    "        :rtype: int\n",
    "        \"\"\"\n",
    "        if n < 2:\n",
    "            return 0\n",
    "        \n",
    "        count = 0\n",
    "        for i in range(1, n+1, 1):\n",
    "            if isPrime(0, i):\n",
    "                count += 1\n",
    "                \n",
    "        return count\n",
    "                \n",
    "        \n",
    "def isPrime(self, n):\n",
    "    if n < 2:\n",
    "        return False\n",
    "    \n",
    "    factors = []\n",
    "    for i in range(1, n + 1, 1):\n",
    "        if n % i == 0:\n",
    "            factors.append(i)\n",
    "        if len(factors) > 2:\n",
    "            return False\n",
    "    \n",
    "    return len(factors) == 2\n",
    "            \n",
    "    \n",
    "print(countPrimes(0, 5))\n",
    "print(countPrimes(0, 10))\n",
    "print(countPrimes(0, 499979))"
   ]
  },
  {
   "cell_type": "markdown",
   "metadata": {},
   "source": [
    "### 注释：\n",
    "上面这种方法对待小范围还可以，等到第三个大数字的时候就不行了。\n",
    "\n"
   ]
  },
  {
   "cell_type": "code",
   "execution_count": 4,
   "metadata": {
    "collapsed": false
   },
   "outputs": [
    {
     "name": "stdout",
     "output_type": "stream",
     "text": [
      "4\n",
      "41537\n"
     ]
    }
   ],
   "source": [
    "def countPrimes(self, n):\n",
    "        \"\"\"\n",
    "        :type n: int\n",
    "        :rtype: int\n",
    "        \"\"\"\n",
    "        if n < 2:\n",
    "            return 0\n",
    "        \n",
    "        count = 0\n",
    "        isNotPrimes = [False] * n\n",
    "        for i in range(2, n, 1):\n",
    "            if not isNotPrimes[i]:\n",
    "                count += 1\n",
    "                j = 1\n",
    "                while i * j < n:\n",
    "                    isNotPrimes[i * j] = True\n",
    "                    j += 1\n",
    "                    \n",
    "        return count\n",
    "    \n",
    "print(countPrimes(0, 10))\n",
    "print(countPrimes(0, 499979))"
   ]
  }
 ],
 "metadata": {
  "kernelspec": {
   "display_name": "Python 3",
   "language": "python",
   "name": "python3"
  },
  "language_info": {
   "codemirror_mode": {
    "name": "ipython",
    "version": 3
   },
   "file_extension": ".py",
   "mimetype": "text/x-python",
   "name": "python",
   "nbconvert_exporter": "python",
   "pygments_lexer": "ipython3",
   "version": "3.6.0"
  }
 },
 "nbformat": 4,
 "nbformat_minor": 2
}
