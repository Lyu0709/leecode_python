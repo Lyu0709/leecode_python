{
 "cells": [
  {
   "cell_type": "markdown",
   "metadata": {},
   "source": [
    "## [401. Binary Watch ](https://leetcode.com/problems/binary-watch/#/description)\n",
    "A binary watch has 4 LEDs on the top which represent the hours (0-11), and the 6 LEDs on the bottom represent the minutes (0-59).\n",
    "\n",
    "Each LED represents a zero or one, with the least significant bit on the right.\n",
    "\n",
    "Given a non-negative integer n which represents the number of LEDs that are currently on, return all possible times the watch could represent.\n",
    "\n",
    "Example:  \n",
    "\n",
    "Input: n = 1  \n",
    "Return: [\"1:00\", \"2:00\", \"4:00\", \"8:00\", \"0:01\", \"0:02\", \"0:04\", \"0:08\", \"0:16\", \"0:32\"]  \n",
    "\n",
    "Note:\n",
    "\n",
    "- The order of output does not matter.\n",
    "- The hour must not contain a leading zero, for example \"01:00\" is not valid, it should be \"1:00\".\n",
    "- The minute must be consist of two digits and may contain a leading zero, for example \"10:2\" is not valid, it should be \"10:02\".\n"
   ]
  },
  {
   "cell_type": "code",
   "execution_count": 11,
   "metadata": {
    "collapsed": false,
    "scrolled": true
   },
   "outputs": [
    {
     "name": "stdout",
     "output_type": "stream",
     "text": [
      "['3:00', '5:00', '9:00', '1:01', '1:02', '1:04', '1:08', '1:16', '1:32', '6:00', '10:00', '2:01', '2:02', '2:04', '2:08', '2:16', '2:32', '4:01', '4:02', '4:04', '4:08', '4:16', '4:32', '8:01', '8:02', '8:04', '8:08', '8:16', '8:32', '0:03', '0:05', '0:09', '0:17', '0:33', '0:06', '0:10', '0:18', '0:34', '0:12', '0:20', '0:36', '0:24', '0:40', '0:48']\n"
     ]
    }
   ],
   "source": [
    "def readBinaryWatch(self, num):\n",
    "    \"\"\"\n",
    "    :type num: int\n",
    "    :rtype: List[str]\n",
    "    \"\"\"\n",
    "    def dfs(n, hours, mins, idx):\n",
    "        if hours >= 12 or mins > 59: return\n",
    "        if not n:  # n == 0(False)\n",
    "            res.append(str(hours) + \":\" + \"0\" * (mins < 10) + str(mins))\n",
    "            return\n",
    "        for i in range(idx, 10):\n",
    "            if i < 4: \n",
    "                dfs(n - 1, hours | (1 << i), mins, i + 1)\n",
    "            else:\n",
    "                k = i - 4\n",
    "                dfs(n - 1, hours, mins | (1 << k), i + 1)\n",
    "\n",
    "    res = []\n",
    "    dfs(num, 0, 0, 0)\n",
    "    return res\n",
    " \n",
    "print(readBinaryWatch(0, 2))"
   ]
  },
  {
   "cell_type": "markdown",
   "metadata": {},
   "source": [
    "### 解析：\n",
    "1 << i = $1 * 2^i$  \n",
    "| ：按位或运算符，只要对应的两个二进位有一个为1时，结果位就为1  \n"
   ]
  },
  {
   "cell_type": "code",
   "execution_count": 4,
   "metadata": {
    "collapsed": false
   },
   "outputs": [
    {
     "name": "stdout",
     "output_type": "stream",
     "text": [
      "['0:01', '0:02', '0:04', '0:08', '0:16', '0:32', '1:00', '2:00', '4:00', '8:00']\n"
     ]
    }
   ],
   "source": [
    "def readBinaryWatch(self, num):\n",
    "    return ['%d:%02d' % (h, m)\n",
    "            for h in range(12) for m in range(60)\n",
    "            if (bin(h) + bin(m)).count('1') == num]\n",
    "\n",
    "print(readBinaryWatch(0, 1))"
   ]
  }
 ],
 "metadata": {
  "kernelspec": {
   "display_name": "Python 3",
   "language": "python",
   "name": "python3"
  },
  "language_info": {
   "codemirror_mode": {
    "name": "ipython",
    "version": 3
   },
   "file_extension": ".py",
   "mimetype": "text/x-python",
   "name": "python",
   "nbconvert_exporter": "python",
   "pygments_lexer": "ipython3",
   "version": "3.6.0"
  }
 },
 "nbformat": 4,
 "nbformat_minor": 2
}
