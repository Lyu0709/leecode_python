{
 "cells": [
  {
   "cell_type": "markdown",
   "metadata": {},
   "source": [
    "## [100. Same Tree ](https://leetcode.com/problems/same-tree/description/)\n",
    " Given two binary trees, write a function to check if they are equal or not.\n",
    "\n",
    "Two binary trees are considered equal if they are structurally identical and the nodes have the same value. "
   ]
  },
  {
   "cell_type": "code",
   "execution_count": null,
   "metadata": {
    "collapsed": true
   },
   "outputs": [],
   "source": [
    "# 递归\n",
    "\n",
    "# Definition for a binary tree node.\n",
    "# class TreeNode(object):\n",
    "#     def __init__(self, x):\n",
    "#         self.val = x\n",
    "#         self.left = None\n",
    "#         self.right = None\n",
    "\n",
    "class Solution(object):\n",
    "    def isSameTree(self, p, q):\n",
    "        \"\"\"\n",
    "        :type p: TreeNode\n",
    "        :type q: TreeNode\n",
    "        :rtype: bool\n",
    "        \"\"\"\n",
    "        if p and q:\n",
    "            return p.val == q.val and self.isSameTree(p.left, q.left) and self.isSameTree(p.right, q.right)\n",
    "        return p is q"
   ]
  },
  {
   "cell_type": "code",
   "execution_count": null,
   "metadata": {
    "collapsed": true
   },
   "outputs": [],
   "source": [
    "# 用栈将递归转为非递归\n",
    "\n",
    "# Definition for a binary tree node.\n",
    "# class TreeNode(object):\n",
    "#     def __init__(self, x):\n",
    "#         self.val = x\n",
    "#         self.left = None\n",
    "#         self.right = None\n",
    "\n",
    "class Stack: \n",
    "    \"\"\"模拟栈\"\"\" \n",
    "    def __init__(self): \n",
    "        self.items = [] \n",
    " \n",
    "    def isEmpty(self): \n",
    "        return len(self.items)==0  \n",
    " \n",
    "    def push(self, item): \n",
    "        self.items.append(item) \n",
    " \n",
    "    def pop(self): \n",
    "        return self.items.pop()  \n",
    " \n",
    "    def peek(self): \n",
    "        if not self.isEmpty(): \n",
    "            return self.items[len(self.items)-1] \n",
    " \n",
    "    def size(self): \n",
    "        return len(self.items) \n",
    "    \n",
    "\n",
    "class Solution(object):\n",
    "    def isSameTree(self, p, q):\n",
    "        \"\"\"\n",
    "        :type p: TreeNode\n",
    "        :type q: TreeNode\n",
    "        :rtype: bool\n",
    "        \"\"\"\n",
    "        sp = Stack()\n",
    "        sq = Stack()\n",
    "        if p:\n",
    "            sp.push(p)\n",
    "        if q:\n",
    "            sq.push(q)\n",
    "            \n",
    "        while sp and sq:\n",
    "            pn = sp.pop()\n",
    "            qn = sq.pop()\n",
    "            if pn.val != pn.val:\n",
    "                return False\n",
    "            if pn.right:\n",
    "                sp.push(pn.right)\n",
    "            if qn.right:\n",
    "                sq.push(qn.right)\n",
    "            if sp.size() != sq.size():\n",
    "                return False\n",
    "            if pn.left:\n",
    "                sp.push(pn.left)\n",
    "            if qn.left:\n",
    "                sq.push(qn.left)\n",
    "            if sp.size() != sq.size():\n",
    "                return False\n",
    "                \n",
    "        return sp.size() == sq.size()\n",
    "        "
   ]
  }
 ],
 "metadata": {
  "kernelspec": {
   "display_name": "Python 3",
   "language": "python",
   "name": "python3"
  },
  "language_info": {
   "codemirror_mode": {
    "name": "ipython",
    "version": 3
   },
   "file_extension": ".py",
   "mimetype": "text/x-python",
   "name": "python",
   "nbconvert_exporter": "python",
   "pygments_lexer": "ipython3",
   "version": "3.6.0"
  }
 },
 "nbformat": 4,
 "nbformat_minor": 2
}
