{
 "cells": [
  {
   "cell_type": "markdown",
   "metadata": {},
   "source": [
    "## [628. Maximum Product of Three Numbers](https://leetcode.com/problems/maximum-product-of-three-numbers/#/description)\n",
    "Given an integer array, find three numbers whose product is maximum and output the maximum product.\n",
    "\n",
    "Example 1:\n",
    "\n",
    "Input: [1,2,3]  \n",
    "Output: 6  \n",
    "\n",
    "Example 2:\n",
    "\n",
    "Input: [1,2,3,4]  \n",
    "Output: 24  \n",
    "\n",
    "Note:\n",
    "- The length of the given array will be in range $[3,10^4]$ and all elements are in the range [-1000, 1000].\n",
    "- Multiplication of any three numbers in the input won't exceed the range of 32-bit signed integer.\n"
   ]
  },
  {
   "cell_type": "code",
   "execution_count": 2,
   "metadata": {
    "collapsed": false
   },
   "outputs": [
    {
     "name": "stdout",
     "output_type": "stream",
     "text": [
      "24\n",
      "140\n"
     ]
    }
   ],
   "source": [
    "def maximumProduct(self, nums):\n",
    "    \"\"\"\n",
    "    :type nums: List[int]\n",
    "    :rtype: int\n",
    "    \"\"\"\n",
    "    maxThree = [float('-inf')] * 3  # maxThree[0]:最大值，maxThree[1]:第二大值，maxThree[2]:第三大值\n",
    "    minTwo = [float('inf')] * 2   # minTwo[0]:最小值，minTwo[1]:第二小值\n",
    "    for num in nums:\n",
    "        if num > maxThree[0]:\n",
    "            maxThree = [num, maxThree[0], maxThree[1]]\n",
    "        elif num > maxThree[1]:\n",
    "            maxThree = [maxThree[0], num, maxThree[1]]\n",
    "        elif num > maxThree[2]:\n",
    "            maxThree = [maxThree[0], maxThree[1], num]\n",
    "            \n",
    "        if num < minTwo[0]:\n",
    "            minTwo = [num, minTwo[0]]\n",
    "        elif num < minTwo[1]:\n",
    "            minTwo = [minTwo[0], num]\n",
    "        \n",
    "    return max(maxThree[0]*maxThree[1]*maxThree[2], maxThree[0]*minTwo[0]*minTwo[1])\n",
    "\n",
    "print(maximumProduct(0, [1,2,3,4,-1,-2]))\n",
    "print(maximumProduct(0, [1,2,3,4,-5,-7]))"
   ]
  }
 ],
 "metadata": {
  "kernelspec": {
   "display_name": "Python 3",
   "language": "python",
   "name": "python3"
  },
  "language_info": {
   "codemirror_mode": {
    "name": "ipython",
    "version": 3
   },
   "file_extension": ".py",
   "mimetype": "text/x-python",
   "name": "python",
   "nbconvert_exporter": "python",
   "pygments_lexer": "ipython3",
   "version": "3.6.0"
  }
 },
 "nbformat": 4,
 "nbformat_minor": 2
}
