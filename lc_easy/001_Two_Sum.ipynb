{
 "cells": [
  {
   "cell_type": "markdown",
   "metadata": {},
   "source": [
    "## [001. Two Sum](https://leetcode.com/problems/two-sum/#/description)\n",
    "### Description\n",
    "Given an array of integers, return indices of the two numbers such that they add up to a specific target.\n",
    "You may assume that each input would have exactly one solution, and you may not use the same element twice.\n"
   ]
  },
  {
   "cell_type": "code",
   "execution_count": 23,
   "metadata": {
    "collapsed": false,
    "scrolled": true
   },
   "outputs": [
    {
     "data": {
      "text/plain": [
       "[1, 3]"
      ]
     },
     "execution_count": 23,
     "metadata": {},
     "output_type": "execute_result"
    }
   ],
   "source": [
    "def twoSum(self, nums, target):\n",
    "    if len(nums)<=1:\n",
    "        return false\n",
    "    buff_dict = {}\n",
    "    for i in range(len(nums)):\n",
    "        if nums[i] in buff_dict:\n",
    "            return [buff_dict[nums[i]], i]\n",
    "        else:\n",
    "            buff_dict[target - nums[i]] = i\n",
    "\n",
    "self=0;nums=[1,2,3,4];target=6;\n",
    "twoSum(self, nums, target)"
   ]
  },
  {
   "cell_type": "markdown",
   "metadata": {
    "collapsed": true
   },
   "source": [
    "注：\n",
    "{}是字典，即key-value对"
   ]
  }
 ],
 "metadata": {
  "kernelspec": {
   "display_name": "Python 3",
   "language": "python",
   "name": "python3"
  },
  "language_info": {
   "codemirror_mode": {
    "name": "ipython",
    "version": 3
   },
   "file_extension": ".py",
   "mimetype": "text/x-python",
   "name": "python",
   "nbconvert_exporter": "python",
   "pygments_lexer": "ipython3",
   "version": "3.6.0"
  }
 },
 "nbformat": 4,
 "nbformat_minor": 2
}
