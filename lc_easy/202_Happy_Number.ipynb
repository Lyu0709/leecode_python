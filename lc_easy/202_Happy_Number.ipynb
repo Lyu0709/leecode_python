{
 "cells": [
  {
   "cell_type": "markdown",
   "metadata": {},
   "source": [
    "### [202. Happy Number](https://leetcode.com/problems/happy-number/#/description)\n",
    "Write an algorithm to determine if a number is \"happy\".\n",
    "\n",
    "A happy number is a number defined by the following process: Starting with any positive integer, replace the number by the sum of the squares of its digits, and repeat the process until the number equals 1 (where it will stay), or it loops endlessly in a cycle which does not include 1. Those numbers for which this process ends in 1 are happy numbers.\n",
    "\n",
    "Example: 19 is a happy number  \n",
    "\n",
    "$ 1^2 + 9^2 = 82  $  \n",
    "$8^2 + 2^2 = 68  $  \n",
    "$6^2 + 8^2 = 100  $  \n",
    "$1^2 + 0^2 + 0^2 = 1  $\n"
   ]
  },
  {
   "cell_type": "code",
   "execution_count": 11,
   "metadata": {
    "collapsed": false
   },
   "outputs": [
    {
     "name": "stdout",
     "output_type": "stream",
     "text": [
      "True\n",
      "True\n",
      "False\n"
     ]
    }
   ],
   "source": [
    "def isHappy(self, n):\n",
    "        \"\"\"\n",
    "        :type n: int\n",
    "        :rtype: bool\n",
    "        \"\"\"\n",
    "        \n",
    "        experience = set()  # 集合\n",
    "        while n != 1:\n",
    "            n = sum(int(x) ** 2 for x in str(n))\n",
    "            if n in experience:\n",
    "                    return False\n",
    "                \n",
    "            else:\n",
    "                experience.add(n)\n",
    "          \n",
    "        return True\n",
    "    \n",
    "    \n",
    "\n",
    "print(isHappy(0, 19))        \n",
    "print(isHappy(0, 7))       \n",
    "print(isHappy(0, 12))        \n"
   ]
  }
 ],
 "metadata": {
  "kernelspec": {
   "display_name": "Python 3",
   "language": "python",
   "name": "python3"
  },
  "language_info": {
   "codemirror_mode": {
    "name": "ipython",
    "version": 3
   },
   "file_extension": ".py",
   "mimetype": "text/x-python",
   "name": "python",
   "nbconvert_exporter": "python",
   "pygments_lexer": "ipython3",
   "version": "3.6.0"
  }
 },
 "nbformat": 4,
 "nbformat_minor": 2
}
