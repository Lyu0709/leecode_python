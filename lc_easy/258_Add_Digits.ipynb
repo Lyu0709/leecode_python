{
 "cells": [
  {
   "cell_type": "markdown",
   "metadata": {},
   "source": [
    "### [258. Add Digits](https://leetcode.com/problems/add-digits/#/description)\n",
    "Given a non-negative integer num, repeatedly add all its digits until the result has only one digit.\n",
    "\n",
    "For example:\n",
    "\n",
    "Given num = 38, the process is like: 3 + 8 = 11, 1 + 1 = 2. Since 2 has only one digit, return it.\n",
    "\n",
    "Follow up:\n",
    "Could you do it without any loop/recursion in O(1) runtime?"
   ]
  },
  {
   "cell_type": "code",
   "execution_count": 4,
   "metadata": {},
   "outputs": [
    {
     "data": {
      "text/plain": [
       "3"
      ]
     },
     "execution_count": 4,
     "metadata": {},
     "output_type": "execute_result"
    }
   ],
   "source": [
    "# 常规做法：使用循环\n",
    "def addDigits(self, num):\n",
    "    if not str(num).isdigit():\n",
    "        return False\n",
    "   \n",
    "    while num >= 10:\n",
    "        temp = 0\n",
    "        while num > 0:\n",
    "            temp += num % 10\n",
    "            num = int(num / 10)\n",
    "        num = temp \n",
    "        \n",
    "    return num\n",
    "\n",
    "addDigits(0, 1236)\n",
    "        "
   ]
  },
  {
   "cell_type": "markdown",
   "metadata": {},
   "source": [
    "#### 不使用循环/递归\n",
    "此时是需要用数学计算一下的。\n",
    "设整数num可写为$a_010^0+a_110^1+...+a_n10^n$，其中$a_i$全为0到9的整数。  \n",
    "设：$M = a_0+a_1+...+a_n$\n",
    "又因为：$10^n$ % 9 = 1  \n",
    "所以： num % 9 = $ a_0+a_1+...+a_n = M $  \n",
    " num % 9∈ [0, 8] \n",
    "   \n",
    "情况特殊的是 M = 9 的情形，此时 num % 9 = 0  \n",
    "解决方法的道理是：  \n",
    "(num + 1) % 9 = num % 9 + 1  \n",
    "\n",
    "所以有了下面的算法。"
   ]
  },
  {
   "cell_type": "code",
   "execution_count": 19,
   "metadata": {},
   "outputs": [
    {
     "data": {
      "text/plain": [
       "3"
      ]
     },
     "execution_count": 19,
     "metadata": {},
     "output_type": "execute_result"
    }
   ],
   "source": [
    "def addDigits(self, num):\n",
    "    if not str(num).isdigit():\n",
    "        return False\n",
    "    \n",
    "    if num == 0:\n",
    "        return 0\n",
    "    else :\n",
    "        return (num - 1) % 9 + 1\n",
    "    \n",
    "addDigits(0, 1236)"
   ]
  },
  {
   "cell_type": "code",
   "execution_count": null,
   "metadata": {
    "collapsed": true
   },
   "outputs": [],
   "source": []
  }
 ],
 "metadata": {
  "kernelspec": {
   "display_name": "Python 3",
   "language": "python",
   "name": "python3"
  },
  "language_info": {
   "codemirror_mode": {
    "name": "ipython",
    "version": 3
   },
   "file_extension": ".py",
   "mimetype": "text/x-python",
   "name": "python",
   "nbconvert_exporter": "python",
   "pygments_lexer": "ipython3",
   "version": "3.6.1"
  }
 },
 "nbformat": 4,
 "nbformat_minor": 2
}
