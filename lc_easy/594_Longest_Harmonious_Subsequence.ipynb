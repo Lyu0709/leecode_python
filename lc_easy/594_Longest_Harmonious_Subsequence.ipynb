{
 "cells": [
  {
   "cell_type": "markdown",
   "metadata": {},
   "source": [
    "## [594. Longest Harmonious Subsequence](https://leetcode.com/problems/longest-harmonious-subsequence/#/description)\n",
    "We define a harmonious array is an array where the difference between its maximum value and its minimum value is exactly 1.\n",
    "\n",
    "Now, given an integer array, you need to find the length of its longest harmonious subsequence among all its possible subsequences.\n",
    "\n",
    "Example 1:\n",
    "\n",
    "Input: [1,3,2,2,5,2,3,7]  \n",
    "Output: 5  \n",
    "Explanation: The longest harmonious subsequence is [3,2,2,2,3].  \n",
    "\n",
    "Note: The length of the input array will not exceed 20,000. "
   ]
  },
  {
   "cell_type": "code",
   "execution_count": 4,
   "metadata": {
    "collapsed": false
   },
   "outputs": [
    {
     "name": "stdout",
     "output_type": "stream",
     "text": [
      "5\n",
      "0\n"
     ]
    }
   ],
   "source": [
    "def findLHS(self, nums):\n",
    "        \"\"\"\n",
    "        :type nums: List[int]\n",
    "        :rtype: int\n",
    "        \"\"\"\n",
    "        if len(nums) == 0:\n",
    "            return 0\n",
    "        \n",
    "        dict = {}\n",
    "        for num in nums:\n",
    "            if num in dict:\n",
    "                dict[num] = dict[num] + 1\n",
    "            else:\n",
    "                dict[num] = 1\n",
    "        \n",
    "        maxLength = float(\"-inf\")\n",
    "        for n in dict:\n",
    "            if n+1 in dict:\n",
    "                maxLength = max(maxLength,dict[n] + dict[n+1])\n",
    "                \n",
    "        return max(0, maxLength)\n",
    "        \n",
    "        \n",
    "        \n",
    "print(findLHS(0, [1,3,2,2,5,2,3,7]))\n",
    "print(findLHS(0, [1,1,1,1]))"
   ]
  },
  {
   "cell_type": "markdown",
   "metadata": {},
   "source": [
    "### 注：\n",
    "上面的方法可以的。也有利用Python的collections模块的Counter函数，如下："
   ]
  },
  {
   "cell_type": "code",
   "execution_count": 6,
   "metadata": {
    "collapsed": false
   },
   "outputs": [
    {
     "name": "stdout",
     "output_type": "stream",
     "text": [
      "Counter({2: 3, 3: 2, 1: 1, 5: 1, 7: 1})\n",
      "5\n"
     ]
    }
   ],
   "source": [
    "import collections\n",
    "def findLHS(self, nums):\n",
    "    \"\"\"\n",
    "    :type nums: List[int]\n",
    "    :rtype: int\n",
    "    \"\"\"\n",
    "    count = collections.Counter(nums)\n",
    "    print(count)\n",
    "    return max([count[x] + count[x+1] for x in count if count[x+1]] or [0])\n",
    "    \n",
    "print(findLHS(0, [1,3,2,2,5,2,3,7]))"
   ]
  }
 ],
 "metadata": {
  "kernelspec": {
   "display_name": "Python 3",
   "language": "python",
   "name": "python3"
  },
  "language_info": {
   "codemirror_mode": {
    "name": "ipython",
    "version": 3
   },
   "file_extension": ".py",
   "mimetype": "text/x-python",
   "name": "python",
   "nbconvert_exporter": "python",
   "pygments_lexer": "ipython3",
   "version": "3.6.0"
  }
 },
 "nbformat": 4,
 "nbformat_minor": 2
}
