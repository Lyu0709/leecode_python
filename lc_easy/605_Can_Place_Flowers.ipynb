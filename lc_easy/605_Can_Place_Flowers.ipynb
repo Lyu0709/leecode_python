{
 "cells": [
  {
   "cell_type": "markdown",
   "metadata": {},
   "source": [
    "## [605. Can Place Flowers](https://leetcode.com/problems/can-place-flowers/#/description)\n",
    "Suppose you have a long flowerbed in which some of the plots are planted and some are not. However, flowers cannot be planted in adjacent plots - they would compete for water and both would die.\n",
    "\n",
    "Given a flowerbed (represented as an array containing 0 and 1, where 0 means empty and 1 means not empty), and a number n, return if n new flowers can be planted in it without violating the no-adjacent-flowers rule.\n",
    "\n",
    "Example 1:\n",
    "\n",
    "Input: flowerbed = [1,0,0,0,1], n = 1  \n",
    "Output: True  \n",
    "\n",
    "Example 2:\n",
    "\n",
    "Input: flowerbed = [1,0,0,0,1], n = 2  \n",
    "Output: False  \n",
    "\n",
    "Note:\n",
    "- The input array won't violate no-adjacent-flowers rule.\n",
    "- The input array size is in the range of [1, 20000].\n",
    "- n is a non-negative integer which won't exceed the input array size.\n"
   ]
  },
  {
   "cell_type": "code",
   "execution_count": 5,
   "metadata": {
    "collapsed": false
   },
   "outputs": [
    {
     "name": "stdout",
     "output_type": "stream",
     "text": [
      "True\n",
      "False\n",
      "True\n"
     ]
    }
   ],
   "source": [
    "def canPlaceFlowers(self, flowerbed, n):\n",
    "        \"\"\"\n",
    "        :type flowerbed: List[int]\n",
    "        :type n: int\n",
    "        :rtype: bool\n",
    "        \"\"\"\n",
    "        flowers = 0\n",
    "        for i in range(len(flowerbed)):\n",
    "            if flowerbed[i] == 0:\n",
    "                prev = 0 if i == 0 else flowerbed[i-1]\n",
    "                next = 0 if i == len(flowerbed)-1 else flowerbed[i+1]\n",
    "                \n",
    "                if prev == 0 and next == 0:\n",
    "                    flowerbed[i] = 1\n",
    "                    flowers += 1\n",
    "                    \n",
    "        return flowers >= n\n",
    "    \n",
    "    \n",
    "print(canPlaceFlowers(0, [1,0,0,0,1], 1))\n",
    "print(canPlaceFlowers(0, [1,0,0,0,1], 2))\n",
    "print(canPlaceFlowers(0, [0,0,1,0,0], 2))"
   ]
  },
  {
   "cell_type": "markdown",
   "metadata": {},
   "source": [
    "### 注：\n",
    "其实flowerbed[i] == 1的情况可以直接跳两步的，这样可以更加节省时间。如下："
   ]
  },
  {
   "cell_type": "code",
   "execution_count": 1,
   "metadata": {
    "collapsed": false
   },
   "outputs": [
    {
     "name": "stdout",
     "output_type": "stream",
     "text": [
      "True\n",
      "False\n",
      "True\n"
     ]
    }
   ],
   "source": [
    "def canPlaceFlowers(self, flowerbed, n):\n",
    "        \"\"\"\n",
    "        :type flowerbed: List[int]\n",
    "        :type n: int\n",
    "        :rtype: bool\n",
    "        \"\"\"\n",
    "        flowers = 0\n",
    "        i = 0\n",
    "        while i < len(flowerbed):\n",
    "            if flowerbed[i] == 0:\n",
    "                prev = 0 if i == 0 else flowerbed[i-1]\n",
    "                next = 0 if i == len(flowerbed)-1 else flowerbed[i+1]\n",
    "                \n",
    "                if prev == 0 and next == 0:\n",
    "                    flowerbed[i] = 1\n",
    "                    flowers += 1\n",
    "                \n",
    "                i += 1\n",
    "                \n",
    "            elif flowerbed[i] == 1:\n",
    "                i += 2\n",
    "                    \n",
    "        return flowers >= n\n",
    "    \n",
    "print(canPlaceFlowers(0, [1,0,0,0,1], 1))\n",
    "print(canPlaceFlowers(0, [1,0,0,0,1], 2))\n",
    "print(canPlaceFlowers(0, [0,0,1,0,0], 2))"
   ]
  }
 ],
 "metadata": {
  "kernelspec": {
   "display_name": "Python 3",
   "language": "python",
   "name": "python3"
  },
  "language_info": {
   "codemirror_mode": {
    "name": "ipython",
    "version": 3
   },
   "file_extension": ".py",
   "mimetype": "text/x-python",
   "name": "python",
   "nbconvert_exporter": "python",
   "pygments_lexer": "ipython3",
   "version": "3.6.0"
  }
 },
 "nbformat": 4,
 "nbformat_minor": 2
}
