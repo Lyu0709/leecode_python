{
 "cells": [
  {
   "cell_type": "markdown",
   "metadata": {},
   "source": [
    "## [9. Palindrome Number ](https://leetcode.com/problems/palindrome-number/#/description)\n",
    "Determine whether an integer is a palindrome. Do this without extra space."
   ]
  },
  {
   "cell_type": "code",
   "execution_count": 1,
   "metadata": {
    "collapsed": false
   },
   "outputs": [
    {
     "name": "stdout",
     "output_type": "stream",
     "text": [
      "True\n",
      "True\n",
      "False\n",
      "True\n"
     ]
    }
   ],
   "source": [
    "def isPalindrome(self, x):\n",
    "    \"\"\"\n",
    "    :type x: int\n",
    "    :rtype: bool\n",
    "    \"\"\"\n",
    "    if x < 0 or (x != 0 and x%10 ==0):\n",
    "        return False\n",
    "    \n",
    "    rev = 0\n",
    "    \n",
    "    while x > rev:\n",
    "        rev = 10 * rev + x % 10\n",
    "        x = int(x / 10)\n",
    "        \n",
    "    return x == rev or x == int(rev / 10)\n",
    "    \n",
    "print(isPalindrome(0, 12321))\n",
    "print(isPalindrome(0, 123321))\n",
    "print(isPalindrome(0, 12345))\n",
    "print(isPalindrome(0, 1))"
   ]
  }
 ],
 "metadata": {
  "kernelspec": {
   "display_name": "Python 3",
   "language": "python",
   "name": "python3"
  },
  "language_info": {
   "codemirror_mode": {
    "name": "ipython",
    "version": 3
   },
   "file_extension": ".py",
   "mimetype": "text/x-python",
   "name": "python",
   "nbconvert_exporter": "python",
   "pygments_lexer": "ipython3",
   "version": "3.6.0"
  }
 },
 "nbformat": 4,
 "nbformat_minor": 2
}
