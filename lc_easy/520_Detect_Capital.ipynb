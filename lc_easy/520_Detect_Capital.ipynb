{
 "cells": [
  {
   "cell_type": "markdown",
   "metadata": {},
   "source": [
    "## [520. Detect Capital](https://leetcode.com/problems/detect-capital/#/description)\n",
    " Given a word, you need to judge whether the usage of capitals in it is right or not.\n",
    "\n",
    "We define the usage of capitals in a word to be right when one of the following cases holds:\n",
    "\n",
    "- All letters in this word are capitals, like \"USA\".\n",
    "- All letters in this word are not capitals, like \"leetcode\".\n",
    "- Only the first letter in this word is capital if it has more than one letter, like \"Google\".\n",
    "\n",
    "Otherwise, we define that this word doesn't use capitals in a right way.\n",
    "\n",
    "Example 1:\n",
    "\n",
    "Input: \"USA\"  \n",
    "Output: True  \n",
    "\n",
    "Example 2:\n",
    "\n",
    "Input: \"FlaG\"  \n",
    "Output: False  \n",
    "\n",
    "Note: The input will be a non-empty word consisting of uppercase and lowercase latin letters. "
   ]
  },
  {
   "cell_type": "code",
   "execution_count": 2,
   "metadata": {
    "collapsed": false
   },
   "outputs": [
    {
     "name": "stdout",
     "output_type": "stream",
     "text": [
      "True\n",
      "False\n",
      "True\n"
     ]
    }
   ],
   "source": [
    "def detectCapitalUse(self, word):\n",
    "        \"\"\"\n",
    "        :type word: str\n",
    "        :rtype: bool\n",
    "        \"\"\"\n",
    "        return word.isupper() or word.islower() or word.istitle()\n",
    "    \n",
    "print(detectCapitalUse(0, \"USA\"))\n",
    "print(detectCapitalUse(0, \"FlaG\"))\n",
    "print(detectCapitalUse(0, \"Tom\"))"
   ]
  },
  {
   "cell_type": "markdown",
   "metadata": {},
   "source": [
    "### 注：\n",
    "39.95%……\n",
    "\n",
    "用正则表达式试一下："
   ]
  },
  {
   "cell_type": "code",
   "execution_count": 14,
   "metadata": {
    "collapsed": false
   },
   "outputs": [
    {
     "name": "stdout",
     "output_type": "stream",
     "text": [
      "<_sre.SRE_Match object; span=(0, 3), match='USA'>\n",
      "True\n",
      "None\n",
      "False\n",
      "<_sre.SRE_Match object; span=(0, 3), match='Tom'>\n",
      "True\n"
     ]
    }
   ],
   "source": [
    "import re\n",
    "def detectCapitalUse(self, word):\n",
    "    \"\"\"\n",
    "    :type word: str\n",
    "    :rtype: bool\n",
    "    \"\"\"\n",
    "    ob = re.match('([A-Z]+|[A-Z]?[a-z]+)$',word)\n",
    "    print(ob)\n",
    "    return ob is not None\n",
    "        \n",
    "print(detectCapitalUse(0, \"USA\"))\n",
    "print(detectCapitalUse(0, \"FlaG\"))\n",
    "print(detectCapitalUse(0, \"Tom\"))"
   ]
  },
  {
   "cell_type": "markdown",
   "metadata": {},
   "source": [
    "### 解析：\n",
    "正则表达式的成绩是88.52%，提高了还蛮多的。\n",
    "\n",
    "a+: 表示匹配一个多多个a字符  \n",
    "?: 至多一个  \n",
    "$: 表示必须匹配到文本结束为止"
   ]
  }
 ],
 "metadata": {
  "kernelspec": {
   "display_name": "Python 3",
   "language": "python",
   "name": "python3"
  },
  "language_info": {
   "codemirror_mode": {
    "name": "ipython",
    "version": 3
   },
   "file_extension": ".py",
   "mimetype": "text/x-python",
   "name": "python",
   "nbconvert_exporter": "python",
   "pygments_lexer": "ipython3",
   "version": "3.6.0"
  }
 },
 "nbformat": 4,
 "nbformat_minor": 2
}
