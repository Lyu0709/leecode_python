{
 "cells": [
  {
   "cell_type": "markdown",
   "metadata": {},
   "source": [
    "### [575. Distribute Candies](https://leetcode.com/problems/distribute-candies/#/description)\n",
    "Given an integer array with even length, where different numbers in this array represent different kinds of candies. Each number means one candy of the corresponding kind. You need to distribute these candies equally in number to brother and sister. Return the maximum number of kinds of candies the sister could gain.\n",
    "\n",
    "Example 1:\n",
    "\n",
    "Input: candies = [1,1,2,2,3,3]  \n",
    "Output: 3  \n",
    "Explanation:\n",
    "There are three different kinds of candies (1, 2 and 3), and two candies for each kind.\n",
    "Optimal distribution: The sister has candies [1,2,3] and the brother has candies [1,2,3], too. \n",
    "The sister has three different kinds of candies. \n",
    "\n",
    "Example 2:\n",
    "\n",
    "Input: candies = [1,1,2,3]  \n",
    "Output: 2  \n",
    "Explanation: For example, the sister has candies [2,3] and the brother has candies [1,1]. \n",
    "The sister has two different kinds of candies, the brother has only one kind of candies. \n",
    "\n",
    "Note:\n",
    "\n",
    "-  The length of the given array is in range [2, 10,000], and will be even.\n",
    "- The number in given array is in range [-100,000, 100,000]."
   ]
  },
  {
   "cell_type": "code",
   "execution_count": 5,
   "metadata": {
    "collapsed": false
   },
   "outputs": [
    {
     "name": "stdout",
     "output_type": "stream",
     "text": [
      "3\n",
      "2\n"
     ]
    }
   ],
   "source": [
    "def distributeCandies(self, candies):\n",
    "        \"\"\"\n",
    "        :type candies: List[int]\n",
    "        :rtype: int\n",
    "        \"\"\"\n",
    "        \n",
    "        dict = {}\n",
    "        for candie in candies:\n",
    "            dict[candie] = dict.get(candie, 0) + 1\n",
    "            \n",
    "        return min(len(dict), int(len(candies) / 2))\n",
    "    \n",
    "print(distributeCandies(0, [1,1,2,2,3,3]))\n",
    "print(distributeCandies(0,[1,1,2,3]))"
   ]
  },
  {
   "cell_type": "markdown",
   "metadata": {},
   "source": [
    "### 注：\n",
    "哎哟我的妈真的要了亲命了，上面的算法才得了17.55%……其实想想，只需要知道一共有多少种蜡烛就可以了，如果蜡烛种类超过总数一半，那姐姐的最大种类数总可以是总数一半，如果没超，则有多少种蜡烛姐姐的最大种类数就是多少种。其实是不需要知道每种蜡烛分别有多少个的。  \n",
    "  \n",
    "所以想到用集合，改良方法如下（70.90%）："
   ]
  },
  {
   "cell_type": "code",
   "execution_count": 6,
   "metadata": {
    "collapsed": false
   },
   "outputs": [
    {
     "name": "stdout",
     "output_type": "stream",
     "text": [
      "3\n",
      "2\n"
     ]
    }
   ],
   "source": [
    "def distributeCandies(self, candies):\n",
    "        \"\"\"\n",
    "        :type candies: List[int]\n",
    "        :rtype: int\n",
    "        \"\"\"\n",
    "        types = set(candies)\n",
    "        return min(len(types), int(len(candies) / 2))\n",
    "    \n",
    "print(distributeCandies(0, [1,1,2,2,3,3]))\n",
    "print(distributeCandies(0,[1,1,2,3]))"
   ]
  }
 ],
 "metadata": {
  "kernelspec": {
   "display_name": "Python 3",
   "language": "python",
   "name": "python3"
  },
  "language_info": {
   "codemirror_mode": {
    "name": "ipython",
    "version": 3
   },
   "file_extension": ".py",
   "mimetype": "text/x-python",
   "name": "python",
   "nbconvert_exporter": "python",
   "pygments_lexer": "ipython3",
   "version": "3.6.0"
  }
 },
 "nbformat": 4,
 "nbformat_minor": 2
}
