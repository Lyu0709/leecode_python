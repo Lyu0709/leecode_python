{
 "cells": [
  {
   "cell_type": "markdown",
   "metadata": {},
   "source": [
    "### 7. Reverse Integer\n",
    "Reverse digits of an integer.\n",
    "\n",
    "Note:\n",
    "The input is assumed to be a 32-bit signed integer. Your function should return 0 when the reversed integer overflows.\n",
    "\n",
    "<br>\n",
    "这里的一个问题是： 32-bit signed integer到底是什么？"
   ]
  },
  {
   "cell_type": "code",
   "execution_count": 17,
   "metadata": {},
   "outputs": [
    {
     "name": "stdout",
     "output_type": "stream",
     "text": [
      "正数：54321\n",
      "负数：-54321\n",
      "越界：0\n"
     ]
    }
   ],
   "source": [
    "def reverse(self, x):\n",
    "    if not isinstance(x,int):\n",
    "        return False\n",
    "    if len(str(x)) > 8:\n",
    "        return 0\n",
    "    \n",
    "    strNum = str(x)\n",
    "    flag = True\n",
    "    if not strNum.isdigit():\n",
    "        flag = False\n",
    "        strNum = strNum.replace('-','')\n",
    "    result = \"\"\n",
    "    if not flag:\n",
    "        result += '-'\n",
    "    for i in range(len(strNum)-1, -1, -1):\n",
    "        result += strNum[i]\n",
    "    \n",
    "    return int(result)\n",
    "\n",
    "x = 12345\n",
    "print(\"正数：\" + str(reverse(0,x)))\n",
    "x = -12345\n",
    "print(\"负数：\" + str(reverse(0,x)))\n",
    "x = 123456789\n",
    "print(\"越界：\"+str(reverse(0, x)))"
   ]
  },
  {
   "cell_type": "markdown",
   "metadata": {},
   "source": [
    "#### 注：\n",
    "- python中判断是否为整数的方法为isinstance(x,int)，这里的x为数字类型。判断非负整数时可以用x.isdigit()，此时的x为字符串\n",
    "- Python自带的方法帮助简化了很多代码"
   ]
  }
 ],
 "metadata": {
  "kernelspec": {
   "display_name": "Python 3",
   "language": "python",
   "name": "python3"
  },
  "language_info": {
   "codemirror_mode": {
    "name": "ipython",
    "version": 3
   },
   "file_extension": ".py",
   "mimetype": "text/x-python",
   "name": "python",
   "nbconvert_exporter": "python",
   "pygments_lexer": "ipython3",
   "version": "3.6.1"
  }
 },
 "nbformat": 4,
 "nbformat_minor": 2
}
