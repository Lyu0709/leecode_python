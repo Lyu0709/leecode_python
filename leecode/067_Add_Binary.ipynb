{
 "cells": [
  {
   "cell_type": "markdown",
   "metadata": {},
   "source": [
    "###  [67. Add Binary](https://leetcode.com/problems/add-binary/#/description)\n",
    "Given two binary strings, return their sum (also a binary string).\n",
    "\n",
    "For example,\n",
    "a = \"11\"\n",
    "b = \"1\"\n",
    "Return \"100\"."
   ]
  },
  {
   "cell_type": "code",
   "execution_count": 20,
   "metadata": {
    "scrolled": true
   },
   "outputs": [
    {
     "data": {
      "text/plain": [
       "'10100'"
      ]
     },
     "execution_count": 20,
     "metadata": {},
     "output_type": "execute_result"
    }
   ],
   "source": [
    "def addBinary(self, a, b):\n",
    "    \"\"\"\n",
    "    :type a: str\n",
    "    :type b: str\n",
    "    :rtype: str\n",
    "    \"\"\"\n",
    "    flag = True\n",
    "    for i in range (2, 10) :\n",
    "        if str(i) in a:\n",
    "            flag = False\n",
    "        if str(i) in b:\n",
    "            flag = False\n",
    "            \n",
    "    if not flag:\n",
    "        return False\n",
    "    \n",
    "    result = \"\"\n",
    "    carry = 0\n",
    "    i = 0\n",
    "    while i < len(a) or i < len(b) or carry != 0:\n",
    "        a_val = int(a[len(a) - i - 1]) if i < len(a) else 0\n",
    "        b_val = int(b[len(b) - i - 1]) if i < len(b) else 0\n",
    "        result = str((a_val + b_val + carry) % 2) + result\n",
    "        carry = int((a_val + b_val + carry) / 2)\n",
    "        i += 1\n",
    "    return result\n",
    "    \n",
    "addBinary(0, '10001', \"11\")   "
   ]
  },
  {
   "cell_type": "code",
   "execution_count": null,
   "metadata": {
    "collapsed": true
   },
   "outputs": [],
   "source": []
  }
 ],
 "metadata": {
  "kernelspec": {
   "display_name": "Python 3",
   "language": "python",
   "name": "python3"
  },
  "language_info": {
   "codemirror_mode": {
    "name": "ipython",
    "version": 3
   },
   "file_extension": ".py",
   "mimetype": "text/x-python",
   "name": "python",
   "nbconvert_exporter": "python",
   "pygments_lexer": "ipython3",
   "version": "3.6.1"
  }
 },
 "nbformat": 4,
 "nbformat_minor": 2
}
