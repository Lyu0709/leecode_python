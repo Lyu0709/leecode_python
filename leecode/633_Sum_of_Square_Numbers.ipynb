{
 "cells": [
  {
   "cell_type": "markdown",
   "metadata": {},
   "source": [
    "## [633. Sum of Square Numbers](https://leetcode.com/problems/sum-of-square-numbers/#/description)\n",
    " Given a non-negative integer c, your task is to decide whether there're two integers a and b such that a2 + b2 = c.\n",
    "\n",
    "Example 1:\n",
    "\n",
    "Input: 5  \n",
    "Output: True  \n",
    "Explanation: $1^2 + 2^2 = 5  $\n",
    "\n",
    "Example 2:  \n",
    "\n",
    "Input: 3  \n",
    "Output: False  \n"
   ]
  },
  {
   "cell_type": "code",
   "execution_count": 12,
   "metadata": {
    "collapsed": false
   },
   "outputs": [
    {
     "name": "stdout",
     "output_type": "stream",
     "text": [
      "True\n",
      "True\n",
      "False\n"
     ]
    }
   ],
   "source": [
    "def judgeSquareSum(self, c):\n",
    "    \"\"\"\n",
    "    :type c: int\n",
    "    :rtype: bool\n",
    "    \"\"\"\n",
    "    flag = False\n",
    "    factors = []\n",
    "    for i in range(int(c**0.5)+1):\n",
    "        if i**2 in factors:\n",
    "            return True\n",
    "        else:\n",
    "            factors.append(c - i**2)\n",
    "            \n",
    "    return flag\n",
    "\n",
    "print(judgeSquareSum(0, 5))\n",
    "print(judgeSquareSum(0, 4))\n",
    "print(judgeSquareSum(0, 8)) # 错误。这个方法只能保证不相同的两个数字的平方和可以被判成True，如果是相同的就不行了。"
   ]
  },
  {
   "cell_type": "code",
   "execution_count": 17,
   "metadata": {
    "collapsed": false
   },
   "outputs": [
    {
     "name": "stdout",
     "output_type": "stream",
     "text": [
      "True\n",
      "True\n",
      "True\n",
      "False\n"
     ]
    }
   ],
   "source": [
    "def judgeSquareSum(self, c):\n",
    "    \"\"\"\n",
    "    :type c: int\n",
    "    :rtype: bool\n",
    "    \"\"\"\n",
    "    flag = False\n",
    "    factors = []\n",
    "    for i in range(int(c**0.5)+1):\n",
    "        factors.append(c - i**2)\n",
    "        \n",
    "    for i in range(int(c**0.5)+1):\n",
    "        if i**2 in factors:\n",
    "            return True\n",
    "        \n",
    "    return False\n",
    "    \n",
    "print(judgeSquareSum(0, 5))\n",
    "print(judgeSquareSum(0, 4))\n",
    "print(judgeSquareSum(0, 8))\n",
    "print(judgeSquareSum(0, 3))"
   ]
  },
  {
   "cell_type": "markdown",
   "metadata": {},
   "source": [
    "### 注：\n",
    "上面的方法虽然结果对了，但是成本太高了。"
   ]
  },
  {
   "cell_type": "code",
   "execution_count": 19,
   "metadata": {
    "collapsed": false
   },
   "outputs": [
    {
     "name": "stdout",
     "output_type": "stream",
     "text": [
      "True\n",
      "True\n",
      "True\n",
      "False\n"
     ]
    }
   ],
   "source": [
    "def judgeSquareSum(self, c):\n",
    "    \"\"\"\n",
    "    :type c: int\n",
    "    :rtype: bool\n",
    "    \"\"\"\n",
    "    l = 0\n",
    "    r = int(c**0.5)+1\n",
    "    \n",
    "    while l <= r:\n",
    "        if l**2 + r**2 == c:\n",
    "            return True\n",
    "        elif l**2 + r**2 < c:\n",
    "            l += 1\n",
    "        else:\n",
    "            r -= 1\n",
    "    \n",
    "    return False\n",
    "\n",
    "print(judgeSquareSum(0, 5))\n",
    "print(judgeSquareSum(0, 4))\n",
    "print(judgeSquareSum(0, 8))\n",
    "print(judgeSquareSum(0, 3))  "
   ]
  }
 ],
 "metadata": {
  "kernelspec": {
   "display_name": "Python 3",
   "language": "python",
   "name": "python3"
  },
  "language_info": {
   "codemirror_mode": {
    "name": "ipython",
    "version": 3
   },
   "file_extension": ".py",
   "mimetype": "text/x-python",
   "name": "python",
   "nbconvert_exporter": "python",
   "pygments_lexer": "ipython3",
   "version": "3.6.0"
  }
 },
 "nbformat": 4,
 "nbformat_minor": 2
}
