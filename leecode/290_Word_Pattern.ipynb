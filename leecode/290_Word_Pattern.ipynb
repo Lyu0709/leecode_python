{
 "cells": [
  {
   "cell_type": "markdown",
   "metadata": {},
   "source": [
    "### [290. Word Pattern](https://leetcode.com/problems/word-pattern/#/description)\n",
    "Given a pattern and a string str, find if str follows the same pattern.\n",
    "\n",
    "Here follow means a full match, such that there is a bijection between a letter in pattern and a non-empty word in str.\n",
    "\n",
    "Examples:  \n",
    "pattern = \"abba\", str = \"dog cat cat dog\" should return true.   \n",
    "pattern = \"abba\", str = \"dog cat cat fish\" should return false.  \n",
    "pattern = \"aaaa\", str = \"dog cat cat dog\" should return false.  \n",
    "pattern = \"abba\", str = \"dog dog dog dog\" should return false.  \n",
    "  \n",
    "Notes:  \n",
    "You may assume pattern contains only lowercase letters, and str contains lowercase letters separated by a single space."
   ]
  },
  {
   "cell_type": "code",
   "execution_count": 31,
   "metadata": {
    "scrolled": true
   },
   "outputs": [
    {
     "name": "stdout",
     "output_type": "stream",
     "text": [
      "True\n",
      "False\n",
      "False\n",
      "False\n"
     ]
    }
   ],
   "source": [
    "def wordPattern(self, pattern, strr):\n",
    "    \"\"\"\n",
    "    :type pattern: strr\n",
    "    :type str: strr\n",
    "    :rtype: bool\n",
    "    \"\"\"\n",
    "    if pattern is None or strr is None or len(strr) == 0 or len(pattern) == 0 or len(strr.split(\" \")) != len(pattern):\n",
    "        return False\n",
    "        \n",
    "    s = pattern\n",
    "    t = strr.split()\n",
    "    \n",
    "    s_flag = [] \n",
    "    t_flag = [] \n",
    "    \n",
    "    for x in pattern:\n",
    "        s_flag.append(s.find(x))\n",
    "        \n",
    "    for y in t:\n",
    "        t_flag.append(t.index(y))\n",
    "  \n",
    "    return s_flag == t_flag\n",
    "\n",
    "print(wordPattern(0, \"abba\", \"dog cat cat dog\"))\n",
    "print(wordPattern(0, \"aaaa\", \"dog cat cat fish\"))\n",
    "print(wordPattern(0, \"aaaa\", \"dog cat cat dog\"))\n",
    "print(wordPattern(0, \"abba\", \"dog dog dog dog\"))"
   ]
  },
  {
   "cell_type": "markdown",
   "metadata": {},
   "source": [
    "### 注：\n",
    "思路是在pattern中依次查询每个字母在字符串中首次出现的位置，得到一个位置数组，在str中依次查询每个单词首次出现的位置，也得到一个位置数组，判断这两个数组是否相等即可。   \n",
    "  \n",
    "又出现了一行神码，然而我运行结果总是不对。主要用到了map函数，非常高级。如下："
   ]
  },
  {
   "cell_type": "code",
   "execution_count": 33,
   "metadata": {},
   "outputs": [
    {
     "name": "stdout",
     "output_type": "stream",
     "text": [
      "False\n",
      "False\n",
      "False\n",
      "False\n"
     ]
    }
   ],
   "source": [
    "def wordPattern(self, pattern, str):\n",
    "    \"\"\"\n",
    "    :type pattern: strr\n",
    "    :type str: strr\n",
    "    :rtype: bool\n",
    "    \"\"\"\n",
    "    s = pattern\n",
    "    t = str.split()\n",
    "    return map(s.find, s) == map(t.index, t)  # map方法做的事情跟上面正确的代码做的事情是一样的。\n",
    "\n",
    "print(wordPattern(0, \"abba\", \"dog cat cat dog\"))\n",
    "print(wordPattern(0, \"aaaa\", \"dog cat cat fish\"))\n",
    "print(wordPattern(0, \"aaaa\", \"dog cat cat dog\"))\n",
    "print(wordPattern(0, \"abba\", \"dog dog dog dog\"))"
   ]
  }
 ],
 "metadata": {
  "kernelspec": {
   "display_name": "Python 3",
   "language": "python",
   "name": "python3"
  },
  "language_info": {
   "codemirror_mode": {
    "name": "ipython",
    "version": 3
   },
   "file_extension": ".py",
   "mimetype": "text/x-python",
   "name": "python",
   "nbconvert_exporter": "python",
   "pygments_lexer": "ipython3",
   "version": "3.6.1"
  }
 },
 "nbformat": 4,
 "nbformat_minor": 2
}
