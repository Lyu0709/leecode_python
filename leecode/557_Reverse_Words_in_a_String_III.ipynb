{
 "cells": [
  {
   "cell_type": "markdown",
   "metadata": {},
   "source": [
    "### [557. Reverse Words in a String III]() \n",
    "Given a string, you need to reverse the order of characters in each word within a sentence while still preserving whitespace and initial word order.   \n",
    "   \n",
    "Example 1:   \n",
    "Input: \"Let's take LeetCode contest\"   \n",
    "Output: \"s'teL ekat edoCteeL tsetnoc\"      \n",
    "   \n",
    "Note: In the string, each word is separated by single space and there will not be any extra space in the string. \n"
   ]
  },
  {
   "cell_type": "code",
   "execution_count": 20,
   "metadata": {
    "collapsed": false
   },
   "outputs": [
    {
     "data": {
      "text/plain": [
       "\"s'teL ekat edoCteeL tsetnoc\""
      ]
     },
     "execution_count": 20,
     "metadata": {},
     "output_type": "execute_result"
    }
   ],
   "source": [
    "def reverseWords(self, s):\n",
    "        \"\"\"\n",
    "        :type s: str\n",
    "        :rtype: str\n",
    "        \"\"\"\n",
    "        if s is None:\n",
    "            return False\n",
    "        \n",
    "        res = \"\"\n",
    "        strList = s.split(\" \")\n",
    "        for i in range(len(strList)):\n",
    "            temp = \"\"\n",
    "            for j in range(len(strList[i])-1, -1, -1):\n",
    "                temp += strList[i][j]\n",
    "                \n",
    "            res += temp + \" \"\n",
    "            \n",
    "        return res[:len(res)-1]\n",
    "                \n",
    "        \n",
    "        \n",
    "reverseWords(0, \"Let's take LeetCode contest\")        "
   ]
  },
  {
   "cell_type": "markdown",
   "metadata": {},
   "source": [
    "#### 注：\n",
    "上面的方法只击败了8.96%的提交答案，极差。  \n",
    "将上面的 += 都改为 = 的写法，也只提高了 1%  \n",
    "   \n",
    "下面是题友们给出的答案，29ms搞定，提到了90%+"
   ]
  },
  {
   "cell_type": "code",
   "execution_count": 21,
   "metadata": {
    "collapsed": false
   },
   "outputs": [
    {
     "data": {
      "text/plain": [
       "\"s'teL ekat edoCteeL tsetnoc\""
      ]
     },
     "execution_count": 21,
     "metadata": {},
     "output_type": "execute_result"
    }
   ],
   "source": [
    "def reverseWords(self, s):\n",
    "        \"\"\"\n",
    "        :type s: str\n",
    "        :rtype: str\n",
    "        \"\"\"\n",
    "        return  ' '.join(s.split()[::-1])[::-1]\n",
    "    \n",
    "reverseWords(0, \"Let's take LeetCode contest\")     "
   ]
  },
  {
   "cell_type": "markdown",
   "metadata": {},
   "source": [
    "#### 解析"
   ]
  },
  {
   "cell_type": "code",
   "execution_count": 25,
   "metadata": {
    "collapsed": false
   },
   "outputs": [
    {
     "name": "stdout",
     "output_type": "stream",
     "text": [
      "['contest', 'LeetCode', 'take', \"Let's\"]\n",
      "contest LeetCode take Let's\n"
     ]
    },
    {
     "data": {
      "text/plain": [
       "\"s'teL ekat edoCteeL tsetnoc\""
      ]
     },
     "execution_count": 25,
     "metadata": {},
     "output_type": "execute_result"
    }
   ],
   "source": [
    "def reverseWords(self, s):\n",
    "    \n",
    "    print(s.split()[::-1]) # ['contest', 'LeetCode', 'take', \"Let's\"]\n",
    "    print(' '.join(s.split()[::-1])) # contest LeetCode take Let's\n",
    "    return ' '.join(s.split()[::-1])[::-1]\n",
    "\n",
    "reverseWords(0, \"Let's take LeetCode contest\")  "
   ]
  }
 ],
 "metadata": {
  "kernelspec": {
   "display_name": "Python 3",
   "language": "python",
   "name": "python3"
  },
  "language_info": {
   "codemirror_mode": {
    "name": "ipython",
    "version": 3
   },
   "file_extension": ".py",
   "mimetype": "text/x-python",
   "name": "python",
   "nbconvert_exporter": "python",
   "pygments_lexer": "ipython3",
   "version": "3.6.0"
  }
 },
 "nbformat": 4,
 "nbformat_minor": 2
}
