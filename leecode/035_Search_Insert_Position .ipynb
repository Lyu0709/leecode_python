{
 "cells": [
  {
   "cell_type": "markdown",
   "metadata": {},
   "source": [
    "### [35. Search Insert Position ](https://leetcode.com/problems/search-insert-position/#/description)\n",
    "Given a sorted array and a target value, return the index if the target is found. If not, return the index where it would be if it were inserted in order.\n",
    "\n",
    "You may assume no duplicates in the array.\n",
    "\n",
    "Here are few examples.  \n",
    "[1,3,5,6], 5 → 2  \n",
    "[1,3,5,6], 2 → 1  \n",
    "[1,3,5,6], 7 → 4  \n",
    "[1,3,5,6], 0 → 0   "
   ]
  },
  {
   "cell_type": "code",
   "execution_count": 3,
   "metadata": {
    "collapsed": false
   },
   "outputs": [
    {
     "name": "stdout",
     "output_type": "stream",
     "text": [
      "2\n",
      "1\n",
      "4\n",
      "0\n"
     ]
    }
   ],
   "source": [
    "def searchInsert(self, nums, target):\n",
    "        \"\"\"\n",
    "        :type nums: List[int]\n",
    "        :type target: int\n",
    "        :rtype: int\n",
    "        \"\"\"\n",
    "        if len(nums) == 0:\n",
    "            return 0;\n",
    "        \n",
    "        for i in range(len(nums)):\n",
    "            if target <= nums[i]:\n",
    "                return i;\n",
    "            \n",
    "            if i == len(nums)-1:\n",
    "                return i+1;\n",
    "        \n",
    "        \n",
    "print(searchInsert(0, [1,3,5,6], 5))      \n",
    "print(searchInsert(0, [1,3,5,6], 2))\n",
    "print(searchInsert(0, [1,3,5,6], 7)) \n",
    "print(searchInsert(0, [1,3,5,6], 0)) "
   ]
  },
  {
   "cell_type": "markdown",
   "metadata": {},
   "source": [
    "### 注：\n",
    "这个方法只取得了55.32%的成绩。毕竟 $T(n) = O(n)$，其实挺差的。"
   ]
  },
  {
   "cell_type": "code",
   "execution_count": 2,
   "metadata": {
    "collapsed": false
   },
   "outputs": [
    {
     "name": "stdout",
     "output_type": "stream",
     "text": [
      "2\n",
      "1\n",
      "4\n",
      "0\n"
     ]
    }
   ],
   "source": [
    "def searchInsert(self, nums, target):\n",
    "        \"\"\"\n",
    "        :type nums: List[int]\n",
    "        :type target: int\n",
    "        :rtype: int\n",
    "        \"\"\"\n",
    "        if len(nums) == 0:\n",
    "            return False\n",
    "        \n",
    "        if target < nums[0]:\n",
    "            return 0\n",
    "        \n",
    "        if target > nums[len(nums) - 1]:\n",
    "            return len(nums)\n",
    "    \n",
    "        first, last = 0, len(nums) - 1\n",
    "       \n",
    "        while first < last:\n",
    "            mid = int((first + last) / 2)\n",
    "            \n",
    "            if nums[mid] == target:\n",
    "                return mid\n",
    "            elif nums[mid] > target:\n",
    "                last = mid\n",
    "            else:\n",
    "                first = mid + 1\n",
    "                \n",
    "        return first \n",
    "    \n",
    "print(searchInsert(0, [1,3,5,6], 5))      \n",
    "print(searchInsert(0, [1,3,5,6], 2))\n",
    "print(searchInsert(0, [1,3,5,6], 7)) \n",
    "print(searchInsert(0, [1,3,5,6], 0))"
   ]
  },
  {
   "cell_type": "markdown",
   "metadata": {
    "collapsed": true
   },
   "source": [
    "### 注：\n",
    "上面的额方法用了二分法，$T(n) = O(\\lg n)$，92.75%  "
   ]
  }
 ],
 "metadata": {
  "kernelspec": {
   "display_name": "Python 3",
   "language": "python",
   "name": "python3"
  },
  "language_info": {
   "codemirror_mode": {
    "name": "ipython",
    "version": 3
   },
   "file_extension": ".py",
   "mimetype": "text/x-python",
   "name": "python",
   "nbconvert_exporter": "python",
   "pygments_lexer": "ipython3",
   "version": "3.6.0"
  }
 },
 "nbformat": 4,
 "nbformat_minor": 2
}
