{
 "cells": [
  {
   "cell_type": "markdown",
   "metadata": {},
   "source": [
    "### [ 70. Climbing Stairs](https://leetcode.com/problems/climbing-stairs/#/description)\n",
    "You are climbing a stair case. It takes n steps to reach to the top.\n",
    "\n",
    "Each time you can either climb 1 or 2 steps. In how many distinct ways can you climb to the top?\n",
    "\n",
    "Note: Given n will be a positive integer.   \n",
    "  \n",
    "### 解析：\n",
    "设爬n阶楼梯一共有$F(n)$中方法，这些方法包含两类：  \n",
    "- 最后一步迈了一阶楼梯：$F(n-1)$\n",
    "- 最后一步迈了两阶楼梯：$F(n-2)$    \n",
    "\n",
    "由此得：$F(n) = F(n-1) + F(n-2)$  \n",
    "且有$F(1) = 1$, $F(2) = 2$  \n",
    "所以这本质上是斐波那契数列求值。"
   ]
  },
  {
   "cell_type": "code",
   "execution_count": 3,
   "metadata": {
    "collapsed": false
   },
   "outputs": [
    {
     "data": {
      "text/plain": [
       "5"
      ]
     },
     "execution_count": 3,
     "metadata": {},
     "output_type": "execute_result"
    }
   ],
   "source": [
    "def climbStairs(self, n):\n",
    "        \"\"\"\n",
    "        :type n: int\n",
    "        :rtype: int\n",
    "        \"\"\"\n",
    "        if n <= 0:\n",
    "            return False\n",
    "        \n",
    "        if n == 1:\n",
    "            return 1\n",
    "        elif n == 2:\n",
    "            return 2\n",
    "        else:\n",
    "            return climbStairs(0, n-1) + climbStairs(0, n-2)\n",
    "        \n",
    "climbStairs(0, 4)"
   ]
  },
  {
   "cell_type": "markdown",
   "metadata": {},
   "source": [
    "### 注：\n",
    "递归是很自然的想法。  \n",
    "   \n",
    "下面是用循环来做，思路超级棒。"
   ]
  },
  {
   "cell_type": "code",
   "execution_count": 4,
   "metadata": {
    "collapsed": false
   },
   "outputs": [
    {
     "data": {
      "text/plain": [
       "5"
      ]
     },
     "execution_count": 4,
     "metadata": {},
     "output_type": "execute_result"
    }
   ],
   "source": [
    "def climbStairs(self, n):\n",
    "        \"\"\"\n",
    "        :type n: int\n",
    "        :rtype: int\n",
    "        \"\"\"\n",
    "        if n <= 0:\n",
    "            return False\n",
    "        \n",
    "        a, b = 1, 1\n",
    "        for i in range(n):\n",
    "            a, b = b, a+b \n",
    "        \n",
    "        return a # b算出来是F(n+1)的值\n",
    "    \n",
    "climbStairs(0, 4)"
   ]
  }
 ],
 "metadata": {
  "kernelspec": {
   "display_name": "Python 3",
   "language": "python",
   "name": "python3"
  },
  "language_info": {
   "codemirror_mode": {
    "name": "ipython",
    "version": 3
   },
   "file_extension": ".py",
   "mimetype": "text/x-python",
   "name": "python",
   "nbconvert_exporter": "python",
   "pygments_lexer": "ipython3",
   "version": "3.6.0"
  }
 },
 "nbformat": 4,
 "nbformat_minor": 2
}
