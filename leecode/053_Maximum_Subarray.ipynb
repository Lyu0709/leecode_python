{
 "cells": [
  {
   "cell_type": "markdown",
   "metadata": {},
   "source": [
    "### [53. Maximum Subarray](https://leetcode.com/problems/maximum-subarray/#/description)\n",
    "Find the contiguous subarray within an array (containing at least one number) which has the largest sum.\n",
    "\n",
    "For example, given the array [-2,1,-3,4,-1,2,1,-5,4], the contiguous subarray [4,-1,2,1] has the largest sum = 6. "
   ]
  },
  {
   "cell_type": "code",
   "execution_count": 3,
   "metadata": {
    "collapsed": false
   },
   "outputs": [
    {
     "data": {
      "text/plain": [
       "6"
      ]
     },
     "execution_count": 3,
     "metadata": {},
     "output_type": "execute_result"
    }
   ],
   "source": [
    "def maxSubArray(self, nums):\n",
    "        \"\"\"\n",
    "        :type nums: List[int]\n",
    "        :rtype: int\n",
    "        \"\"\"\n",
    "        dp = []    # dp[i]为最后一个子列元素为nums[i]的最大连续子列的和\n",
    "        dp.append(nums[0])\n",
    "        maxSum = nums[0]\n",
    "        \n",
    "        for i in range(1, len(nums), 1):\n",
    "            dp.append(nums[i] + (dp[i-1] if dp[i-1] > 0 else 0))   # 根据dp的定义可以得到dp[i+1]与dp[i],nums[i+1]的关系\n",
    "            maxSum = max(maxSum, dp[i])\n",
    "            \n",
    "        return maxSum\n",
    "    \n",
    "maxSubArray(0, [-2,1,-3,4,-1,2,1,-5,4])"
   ]
  },
  {
   "cell_type": "markdown",
   "metadata": {},
   "source": [
    "### 注：\n",
    "这是一个优化问题，可以使用DP算法来解决。  \n",
    "\n"
   ]
  },
  {
   "cell_type": "code",
   "execution_count": 6,
   "metadata": {
    "collapsed": false
   },
   "outputs": [
    {
     "data": {
      "text/plain": [
       "6"
      ]
     },
     "execution_count": 6,
     "metadata": {},
     "output_type": "execute_result"
    }
   ],
   "source": [
    "def maxSubArray(self, nums):\n",
    "        if not nums:\n",
    "            return 0\n",
    "\n",
    "        curSum = maxSum = nums[0]\n",
    "        for num in nums[1:]:\n",
    "            curSum = max(num, curSum + num)\n",
    "            maxSum = max(maxSum, curSum)\n",
    "\n",
    "        return maxSum\n",
    "    \n",
    "maxSubArray(0, [-2,1,-3,4,-1,2,1,-5,4])"
   ]
  }
 ],
 "metadata": {
  "kernelspec": {
   "display_name": "Python 3",
   "language": "python",
   "name": "python3"
  },
  "language_info": {
   "codemirror_mode": {
    "name": "ipython",
    "version": 3
   },
   "file_extension": ".py",
   "mimetype": "text/x-python",
   "name": "python",
   "nbconvert_exporter": "python",
   "pygments_lexer": "ipython3",
   "version": "3.6.0"
  }
 },
 "nbformat": 4,
 "nbformat_minor": 2
}
