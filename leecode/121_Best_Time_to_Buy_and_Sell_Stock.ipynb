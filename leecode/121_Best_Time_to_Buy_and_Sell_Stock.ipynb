{
 "cells": [
  {
   "cell_type": "markdown",
   "metadata": {},
   "source": [
    "## [121. Best Time to Buy and Sell Stock](https://leetcode.com/problems/best-time-to-buy-and-sell-stock/#/description)\n",
    "Say you have an array for which the ith element is the price of a given stock on day i.\n",
    "\n",
    "If you were only permitted to complete at most one transaction (ie, buy one and sell one share of the stock), design an algorithm to find the maximum profit.\n",
    "\n",
    "Example 1:  \n",
    "\n",
    "Input: [7, 1, 5, 3, 6, 4]  \n",
    "Output: 5  \n",
    "\n",
    "max. difference = 6-1 = 5 (not 7-1 = 6, as selling price needs to be larger than buying price)\n",
    "\n",
    "Example 2:  \n",
    "\n",
    "Input: [7, 6, 4, 3, 1]  \n",
    "Output: 0  \n",
    "\n",
    "In this case, no transaction is done, i.e. max profit = 0.\n"
   ]
  },
  {
   "cell_type": "code",
   "execution_count": 2,
   "metadata": {
    "collapsed": false
   },
   "outputs": [
    {
     "name": "stdout",
     "output_type": "stream",
     "text": [
      "5\n",
      "0\n"
     ]
    }
   ],
   "source": [
    "def maxProfit(self, prices):\n",
    "        \"\"\"\n",
    "        :type prices: List[int]\n",
    "        :rtype: int\n",
    "        \"\"\"\n",
    "        maxProfit = 0\n",
    "        minPrice = float(\"inf\")\n",
    "        for price in prices:\n",
    "            if price < minPrice:\n",
    "                minPrice = price\n",
    "            elif price > minPrice:\n",
    "                maxProfit = max(maxProfit, price-minPrice)\n",
    "        \n",
    "        return maxProfit\n",
    "    \n",
    "print(maxProfit(0, [7, 1, 5, 3, 6, 4]))\n",
    "print(maxProfit(0,  [7, 6, 4, 3, 1]))"
   ]
  },
  {
   "cell_type": "markdown",
   "metadata": {},
   "source": [
    "### 注：\n",
    "题友提到了[Kadane's Algorithm](https://en.wikipedia.org/wiki/Maximum_subarray_problem)，这种思路的实现代码如下："
   ]
  },
  {
   "cell_type": "code",
   "execution_count": 7,
   "metadata": {
    "collapsed": false
   },
   "outputs": [
    {
     "name": "stdout",
     "output_type": "stream",
     "text": [
      "5\n",
      "0\n"
     ]
    }
   ],
   "source": [
    "def maxProfit(self, prices):\n",
    "        \"\"\"\n",
    "        :type prices: List[int]\n",
    "        :rtype: int\n",
    "        \"\"\"\n",
    "        maxCur = 0\n",
    "        maxSoFar = 0\n",
    "        for i in range(1, len(prices), 1):\n",
    "            \n",
    "            maxCur = max(0, maxCur + prices[i]-prices[i-1])\n",
    "            maxSoFar = max(maxCur, maxSoFar)\n",
    "        \n",
    "        return maxSoFar\n",
    "\n",
    "print(maxProfit(0, [7, 1, 5, 3, 6, 4]))\n",
    "print(maxProfit(0,  [7, 6, 4, 3, 1]))        "
   ]
  },
  {
   "cell_type": "markdown",
   "metadata": {},
   "source": [
    "### 解析\n",
    "这里有两个点要理清：   \n",
    "1.\n",
    "对于$A = [min, x_1, x_2, x_3, max]$的数组，  \n",
    "maxCur = A[1]-A[0]>0,  \n",
    "maxCur = maxCur + A[2] - A[1] = A[2] - A[0] > 0,  \n",
    "maxCur = maxCur + A[3] - A[2] = A[3] - A[0] > 0,\n",
    "maxCur = maxCur + A[4] - A[3] = A[4] - A[0] = max - min > 0,  \n",
    "点在于只要最小值出现在被减数的位置，就一定能得到其后置位最大值与该最小值的差。  \n",
    "\n",
    "2.\n",
    "又因为maxCur = maxCur + A[i+1] - A[i]最终都会等于 A[i+1]-A[x]（A[x]为当前阶段的较小值），所以当A[i+1]是min时，该值一定为负，下一轮的循环中min一定出现在被减数的位置。这样就保证了第一部分条件的实现。 \n",
    "\n",
    "由此可知，这个方法有效。"
   ]
  }
 ],
 "metadata": {
  "kernelspec": {
   "display_name": "Python 3",
   "language": "python",
   "name": "python3"
  },
  "language_info": {
   "codemirror_mode": {
    "name": "ipython",
    "version": 3
   },
   "file_extension": ".py",
   "mimetype": "text/x-python",
   "name": "python",
   "nbconvert_exporter": "python",
   "pygments_lexer": "ipython3",
   "version": "3.6.0"
  }
 },
 "nbformat": 4,
 "nbformat_minor": 2
}
