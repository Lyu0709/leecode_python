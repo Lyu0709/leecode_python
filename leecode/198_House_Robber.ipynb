{
 "cells": [
  {
   "cell_type": "markdown",
   "metadata": {},
   "source": [
    "## [198. House Robber](https://leetcode.com/problems/house-robber/#/description)\n",
    "You are a professional robber planning to rob houses along a street. Each house has a certain amount of money stashed, the only constraint stopping you from robbing each of them is that adjacent houses have security system connected and it will automatically contact the police if two adjacent houses were broken into on the same night.\n",
    "\n",
    "Given a list of non-negative integers representing the amount of money of each house, determine the maximum amount of money you can rob tonight without alerting the police."
   ]
  },
  {
   "cell_type": "code",
   "execution_count": 3,
   "metadata": {
    "collapsed": false,
    "scrolled": true
   },
   "outputs": [
    {
     "name": "stdout",
     "output_type": "stream",
     "text": [
      "num: 2 currNo: 0 currYes: 2\n",
      "num: 4 currNo: 2 currYes: 4\n",
      "num: 6 currNo: 4 currYes: 8\n",
      "num: 8 currNo: 8 currYes: 12\n",
      "num: 1 currNo: 12 currYes: 9\n",
      "num: 7 currNo: 12 currYes: 19\n",
      "num: 9 currNo: 19 currYes: 21\n",
      "21\n"
     ]
    }
   ],
   "source": [
    "def rob(self, nums):\n",
    "        \"\"\"\n",
    "        :type nums: List[int]\n",
    "        :rtype: int\n",
    "        \"\"\"\n",
    "        currYes = 0  # 抢劫当前这户人家可得的钱\n",
    "        currNo = 0  #  不抢劫当前这户人家可得的钱\n",
    "        for num in nums:\n",
    "            prevYes = currYes\n",
    "            prevNo = currNo\n",
    "            currNo = max(prevYes, prevNo)  # 如果当前这户人家不抢，那么前一家可抢可不抢，看最大值\n",
    "            currYes = prevNo + num    # 如果当前这户人家抢了，那么前一家一定不能抢\n",
    "            print(\"num: \"+str(num)+\" currNo: \"+str(currNo)+\" currYes: \"+str(currYes))\n",
    "            \n",
    "        return max(currYes, currNo)\n",
    "        \n",
    "        \n",
    "print(rob(0, [2,4,6,8,1,7,9]))"
   ]
  },
  {
   "cell_type": "markdown",
   "metadata": {},
   "source": [
    "### 注：\n",
    "这个成绩挺差的……不过其他解法都看的好晕，就先用这个不晕的吧。"
   ]
  }
 ],
 "metadata": {
  "kernelspec": {
   "display_name": "Python 3",
   "language": "python",
   "name": "python3"
  },
  "language_info": {
   "codemirror_mode": {
    "name": "ipython",
    "version": 3
   },
   "file_extension": ".py",
   "mimetype": "text/x-python",
   "name": "python",
   "nbconvert_exporter": "python",
   "pygments_lexer": "ipython3",
   "version": "3.6.0"
  }
 },
 "nbformat": 4,
 "nbformat_minor": 2
}
