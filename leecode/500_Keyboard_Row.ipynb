{
 "cells": [
  {
   "cell_type": "markdown",
   "metadata": {},
   "source": [
    "## [500. Keyboard Row](https://leetcode.com/problems/keyboard-row/#/description)\n",
    "Given a List of words, return the words that can be typed using letters of alphabet on only one row's of American keyboard like the image below.   \n",
    "\n",
    "Example 1:\n",
    "\n",
    "Input: [\"Hello\", \"Alaska\", \"Dad\", \"Peace\"]  \n",
    "Output: [\"Alaska\", \"Dad\"]\n",
    "\n",
    "Note:\n",
    "- You may use one character in the keyboard more than once.\n",
    "- You may assume the input string will only contain letters of alphabet.\n"
   ]
  },
  {
   "cell_type": "code",
   "execution_count": 6,
   "metadata": {
    "collapsed": false
   },
   "outputs": [
    {
     "name": "stdout",
     "output_type": "stream",
     "text": [
      "['Alaska', 'Dad']\n"
     ]
    }
   ],
   "source": [
    "def findWords(self, words):\n",
    "        \"\"\"\n",
    "        :type words: List[str]\n",
    "        :rtype: List[str]\n",
    "        \"\"\"\n",
    "        keyboard = {'q':1,'w':1,'e':1,'r':1,'t':1,'y':1,'u':1,'i':1,'o':1,'p':1,'a':2,'s':2,'d':2,'f':2,'g':2,'h':2,'j':2,'k':2,'l':2,\n",
    "                   'z':3,'x':3,'c':3,'v':3,'b':3,'n':3,'m':3}\n",
    "        sameRow = []\n",
    "        for word in words:\n",
    "            row = keyboard.get(word.lower()[0])\n",
    "            flag = True\n",
    "            for letter in word.lower():\n",
    "                if keyboard.get(letter) != row:\n",
    "                    flag = False\n",
    "                    continue\n",
    "            if flag:\n",
    "                sameRow.append(word);\n",
    "            \n",
    "        return sameRow\n",
    "    \n",
    "print(findWords(0,  [\"Hello\", \"Alaska\", \"Dad\", \"Peace\"]))"
   ]
  },
  {
   "cell_type": "markdown",
   "metadata": {
    "collapsed": true
   },
   "source": [
    "### 注：\n",
    "答案里的另一种思路是使用正则表达式来解这道题。如下："
   ]
  },
  {
   "cell_type": "code",
   "execution_count": 15,
   "metadata": {
    "collapsed": false
   },
   "outputs": [
    {
     "name": "stdout",
     "output_type": "stream",
     "text": [
      "['Alaska', 'Dad']\n"
     ]
    }
   ],
   "source": [
    "import re # 使用正则表达式需要引用python中的re模块\n",
    "def findWords(self, words):\n",
    "        \"\"\"\n",
    "        :type words: List[str]\n",
    "        :rtype: List[str]\n",
    "        \"\"\"\n",
    "        filterObject = filter(re.compile('(?i)([qwertyuiop]*|[asdfghjkl]*|[zxcvbnm]*)$').match, words)\n",
    "        list = [word for word in filterObject] # 将filter对象转为数组\n",
    "        return list\n",
    "    \n",
    "print(findWords(0,  [\"Hello\", \"Alaska\", \"Dad\", \"Peace\"]))"
   ]
  },
  {
   "cell_type": "markdown",
   "metadata": {},
   "source": [
    "### 解析：\n",
    "#### filter()函数\n",
    "filter()函数包含两个参数，一个是function，一个是list。该函数根据function参数返回的结果是否为真来过滤list参数中的项，最后返回一个新列表（python2），pyhton3中会返回一个filter对象，如下例中所示。\n",
    "\n",
    "#### re模块\n",
    "Python通过re模块提供对正则表达式的支持。使用re的一般步骤是先将正则表达式的字符串形式编译为Pattern实例，然后使用Pattern实例处理文本并获得匹配结果（一个Match实例），最后使用Match实例获得信息，进行其他的操作。\n",
    "\n",
    "#### [正则表达式](https://docs.python.org/3/library/re.html#regular-expression-syntax)\n",
    "(?i):ignore case\n"
   ]
  },
  {
   "cell_type": "code",
   "execution_count": 11,
   "metadata": {
    "collapsed": false
   },
   "outputs": [
    {
     "name": "stdout",
     "output_type": "stream",
     "text": [
      "<filter object at 0x0000000004E897F0>\n"
     ]
    }
   ],
   "source": [
    "# filter函数\n",
    "list = filter(lambda x: x>5, [1,2,3,4,5,6,7]) #lambda定义了一个匿名函数\n",
    "print(list)"
   ]
  }
 ],
 "metadata": {
  "kernelspec": {
   "display_name": "Python 3",
   "language": "python",
   "name": "python3"
  },
  "language_info": {
   "codemirror_mode": {
    "name": "ipython",
    "version": 3
   },
   "file_extension": ".py",
   "mimetype": "text/x-python",
   "name": "python",
   "nbconvert_exporter": "python",
   "pygments_lexer": "ipython3",
   "version": "3.6.0"
  }
 },
 "nbformat": 4,
 "nbformat_minor": 2
}
