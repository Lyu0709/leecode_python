{
 "cells": [
  {
   "cell_type": "markdown",
   "metadata": {},
   "source": [
    "### 414. Third Maximum Number\n",
    "Given a non-empty array of integers, return the third maximum number in this array. If it does not exist, return the maximum number. The time complexity must be in O(n).    \n",
    "  \n",
    "** Example 1: **\n",
    "\n",
    "Input: [3, 2, 1]\n",
    "\n",
    "Output: 1\n",
    "\n",
    "Explanation: The third maximum is 1.   \n",
    "  \n",
    "   \n",
    "** Example 2: **\n",
    "\n",
    "Input: [1, 2]\n",
    "\n",
    "Output: 2\n",
    "\n",
    "Explanation: The third maximum does not exist, so the maximum (2) is returned instead.   \n",
    "  \n",
    "   \n",
    "** Example 3: ** \n",
    "\n",
    "Input: [2, 2, 3, 1]\n",
    "\n",
    "Output: 1\n",
    "\n",
    "Explanation: Note that the third maximum here means the third maximum distinct number.\n",
    "Both numbers with value 2 are both considered as second maximum.\n"
   ]
  },
  {
   "cell_type": "code",
   "execution_count": 16,
   "metadata": {
    "collapsed": false
   },
   "outputs": [
    {
     "name": "stdout",
     "output_type": "stream",
     "text": [
      "1\n",
      "5\n"
     ]
    }
   ],
   "source": [
    "def thirdMax(self, nums):\n",
    "        \"\"\"\n",
    "        :type nums: List[int]\n",
    "        :rtype: int\n",
    "        \"\"\"\n",
    "        \n",
    "        if len(nums) == 0:\n",
    "            return False\n",
    "        \n",
    "        topThree = [float('-inf'), float('-inf'), float('-inf')]\n",
    "        \n",
    "        for num in nums:\n",
    "            if num > topThree[0]:\n",
    "                topThree = [num, topThree[0], topThree[1]]\n",
    "            elif num == topThree[0]: \n",
    "                continue\n",
    "            elif num > topThree[1]:\n",
    "                topThree = [topThree[0], num, topThree[1]]\n",
    "            elif num == topThree[1]: \n",
    "                continue\n",
    "            elif num > topThree[2]:\n",
    "                topThree = [topThree[0], topThree[1], num]\n",
    "        \n",
    "        return topThree[0] if float('-inf') in topThree else topThree[2]\n",
    "        \n",
    "        \n",
    "print(thirdMax(0, [2, 2, 3, 1]))\n",
    "print(thirdMax(0, [5,2,2]))"
   ]
  },
  {
   "cell_type": "markdown",
   "metadata": {},
   "source": [
    "### 注：\n",
    "- python里面有无穷大。负无穷大：float('-inf'),正无穷大：float(\"inf\")\n",
    "- 一维找最大值会，到三维找top 3 就不会了？？照此理，top n 可求。"
   ]
  }
 ],
 "metadata": {
  "kernelspec": {
   "display_name": "Python 3",
   "language": "python",
   "name": "python3"
  },
  "language_info": {
   "codemirror_mode": {
    "name": "ipython",
    "version": 3
   },
   "file_extension": ".py",
   "mimetype": "text/x-python",
   "name": "python",
   "nbconvert_exporter": "python",
   "pygments_lexer": "ipython3",
   "version": "3.6.0"
  }
 },
 "nbformat": 4,
 "nbformat_minor": 2
}
